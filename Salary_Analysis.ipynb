{
  "nbformat": 4,
  "nbformat_minor": 0,
  "metadata": {
    "colab": {
      "provenance": [],
      "collapsed_sections": [
        "dXaKpNXu0Dz3",
        "SOlDF0Id2JXa",
        "acBs6WAI2Q7e",
        "WMuQhbrv4RQz",
        "7LVZeuzziX9e",
        "o2odzPQO5ZqZ",
        "qqmg1A7eb4xb",
        "4XTfSkXxBAg9",
        "OI6d5S6e2agr",
        "tjIDBu2X2dBE",
        "MdG2thLY29fR",
        "smfvAT4r3mS2",
        "5Vfyuxzb30hy",
        "Rl2bZHf_4FST",
        "kY31ARnY4iae",
        "YzfTOvW46DU7",
        "bZFTdDy26GZX",
        "4fIQ0JJrkR0S",
        "mJ0QPVWCoZFv",
        "fI5b-2Nerb0b"
      ]
    },
    "kernelspec": {
      "name": "python3",
      "display_name": "Python 3"
    },
    "language_info": {
      "name": "python"
    }
  },
  "cells": [
    {
      "cell_type": "markdown",
      "source": [],
      "metadata": {
        "id": "s0wJegD3z7ln"
      }
    },
    {
      "cell_type": "markdown",
      "source": [
        "#Persiapan Data sebelum melakukan Analisis"
      ],
      "metadata": {
        "id": "dXaKpNXu0Dz3"
      }
    },
    {
      "cell_type": "markdown",
      "source": [
        "##Kasus(Relationship per tabel)\n",
        "1. Industri mana yang memberikan gaji paling besar/kecil\n",
        "2. Bagaimana pengaruh pengalaman kerja terhadap gaji: pengalaman kerja di bidang dengan gaji, dan pengalama kerja dengan gaji\n",
        "3. Bagaimana pengaruh jenis kelamin terhadap gaji\n",
        "4. Bagaimana pengaruh tingkat pendidikan terhadap gaji"
      ],
      "metadata": {
        "id": "9AHZOha10IA7"
      }
    },
    {
      "cell_type": "markdown",
      "source": [
        "##Data Preparation\n",
        "Menyiapkan dataset"
      ],
      "metadata": {
        "id": "Fj6LfbEx0crc"
      }
    },
    {
      "cell_type": "markdown",
      "source": [
        "##Data Discovery & Profiling\n",
        "1. Keterangan\n",
        "- Semua data yang kita modusin jika mising value dibawah 1% dari total keseluruhan data\n",
        "- Mengidentifikasi pola, hubungan, dan atribut lain dalam data, serta ketidakkonsistenan, anomali, nilai yang hilang, dan masalah lain sehingga dapat diatasi.\n",
        "\n",
        "2. Kolom Industry \n",
        "- Problem: ada yang tidak isi.\n",
        "- Solusi: kita isi field yang kosong dengan sesuaikan pakai modus kolom job title\n",
        "\n",
        "3. Kolom Currency\n",
        "- Kasus 1: \n",
        "  - Problem: ada pengguna yang mengisi di kolom currency dan juga di other currency, jadinya bisa saja pengguna tersebut currencynya misal \"USD\" tapi diisi juga di other currency. \n",
        "  - Solusi: Jadinya kita cek yang di currency yang memilih \"other\" dan ngisi di other currency. Yang ngisinya selain \"other\" di currency berarti di kolom other currency gak dipakai\n",
        "\n",
        "4. Kolom Education\n",
        "- Kasus 4: \n",
        "  - Problem: data kolom education ada yang memang tidak mengisi education, atau memang dia tidak punya education. \n",
        "  - Solusi: kita ubah field nya pakai nilai modus.\n",
        "\n",
        "5. Kolom Gender\n",
        "- Kasus 3: \n",
        "  - Problem: ada field kosong\n",
        "  - Solusi: kolom gender untuk menangani field kosong kita pakai cara modus\n",
        "\n"
      ],
      "metadata": {
        "id": "JmRsXwSs0a3y"
      }
    },
    {
      "cell_type": "markdown",
      "source": [
        "## Data Cleansing & Formatting\n",
        "Kesalahan dan masalah data yang teridentifikasi diperbaiki untuk membuat kumpulan data yang lengkap dan akurat. Misalnya, sebagai bagian dari kumpulan data cleansing, data yang salah dihapus atau diperbaiki, nilai yang hilang diisi dan entri yang tidak konsisten diselaraskan.\n",
        "1. Imputasi data per kolom dalam dataset Salary menggunakan nilai modus\n",
        "2. Format data pada dataset ini kami lakukan pada penyesesuaian currency yang berbeda dengan menyamakan semua currency ke USD. Sehingga kami menambahkan kolom baru bernama usd_salary yang merupakan hasil konversi annual_salary ke currency USD."
      ],
      "metadata": {
        "id": "UlSalchJ16D2"
      }
    },
    {
      "cell_type": "markdown",
      "source": [
        "## Analysis the data\n"
      ],
      "metadata": {
        "id": "nsBo76oN2LtP"
      }
    },
    {
      "cell_type": "markdown",
      "source": [
        "## Visualization"
      ],
      "metadata": {
        "id": "NenwxGhc2NYa"
      }
    },
    {
      "cell_type": "markdown",
      "source": [
        "#Import Library"
      ],
      "metadata": {
        "id": "SOlDF0Id2JXa"
      }
    },
    {
      "cell_type": "code",
      "source": [
        "import pandas as pd\n",
        "import numpy as np\n",
        "import matplotlib.pyplot as plt"
      ],
      "metadata": {
        "id": "G1Ek_hnp0-Kf"
      },
      "execution_count": 64,
      "outputs": []
    },
    {
      "cell_type": "markdown",
      "source": [
        "#Membaca Data"
      ],
      "metadata": {
        "id": "acBs6WAI2Q7e"
      }
    },
    {
      "cell_type": "code",
      "execution_count": 65,
      "metadata": {
        "colab": {
          "base_uri": "https://localhost:8080/",
          "height": 444
        },
        "id": "Azf5MkAz0jjs",
        "outputId": "455c28f9-28fc-4b8d-9ee3-9b2035df8985"
      },
      "outputs": [
        {
          "output_type": "execute_result",
          "data": {
            "text/plain": [
              "                Timestamp    age                       industry  \\\n",
              "0 2021-04-27 11:02:09.743  25-34   Education (Higher Education)   \n",
              "1 2021-04-27 11:02:21.562  25-34              Computing or Tech   \n",
              "2 2021-04-27 11:02:38.125  25-34  Accounting, Banking & Finance   \n",
              "3 2021-04-27 11:02:40.643  25-34                     Nonprofits   \n",
              "4 2021-04-27 11:02:41.793  25-34  Accounting, Banking & Finance   \n",
              "\n",
              "                                  job_title job_title_additional_context  \\\n",
              "0        Research and Instruction Librarian                          NaN   \n",
              "1  Change & Internal Communications Manager                          NaN   \n",
              "2                      Marketing Specialist                          NaN   \n",
              "3                           Program Manager                          NaN   \n",
              "4                        Accounting Manager                          NaN   \n",
              "\n",
              "   salary  additional_salary currency other_currency  \\\n",
              "0   55000                0.0      USD            NaN   \n",
              "1   54600             4000.0      GBP            NaN   \n",
              "2   34000                NaN      USD            NaN   \n",
              "3   62000             3000.0      USD            NaN   \n",
              "4   60000             7000.0      USD            NaN   \n",
              "\n",
              "  income_additional_context         country      us_country         city  \\\n",
              "0                       NaN   United States   Massachusetts       Boston   \n",
              "1                       NaN  United Kingdom             NaN    Cambridge   \n",
              "2                       NaN              US       Tennessee  Chattanooga   \n",
              "3                       NaN             USA       Wisconsin    Milwaukee   \n",
              "4                       NaN              US  South Carolina   Greenville   \n",
              "\n",
              "  work_experience_overall work_experience_professional        education  \\\n",
              "0               5-7 years                    5-7 years  Master's degree   \n",
              "1            8 - 10 years                    5-7 years   College degree   \n",
              "2             2 - 4 years                  2 - 4 years   College degree   \n",
              "3            8 - 10 years                    5-7 years   College degree   \n",
              "4            8 - 10 years                    5-7 years   College degree   \n",
              "\n",
              "       gender   race  \n",
              "0       Woman  White  \n",
              "1  Non-binary  White  \n",
              "2       Woman  White  \n",
              "3       Woman  White  \n",
              "4       Woman  White  "
            ],
            "text/html": [
              "\n",
              "  <div id=\"df-ff46b70e-6f8a-490c-941f-3a76198d39b1\">\n",
              "    <div class=\"colab-df-container\">\n",
              "      <div>\n",
              "<style scoped>\n",
              "    .dataframe tbody tr th:only-of-type {\n",
              "        vertical-align: middle;\n",
              "    }\n",
              "\n",
              "    .dataframe tbody tr th {\n",
              "        vertical-align: top;\n",
              "    }\n",
              "\n",
              "    .dataframe thead th {\n",
              "        text-align: right;\n",
              "    }\n",
              "</style>\n",
              "<table border=\"1\" class=\"dataframe\">\n",
              "  <thead>\n",
              "    <tr style=\"text-align: right;\">\n",
              "      <th></th>\n",
              "      <th>Timestamp</th>\n",
              "      <th>age</th>\n",
              "      <th>industry</th>\n",
              "      <th>job_title</th>\n",
              "      <th>job_title_additional_context</th>\n",
              "      <th>salary</th>\n",
              "      <th>additional_salary</th>\n",
              "      <th>currency</th>\n",
              "      <th>other_currency</th>\n",
              "      <th>income_additional_context</th>\n",
              "      <th>country</th>\n",
              "      <th>us_country</th>\n",
              "      <th>city</th>\n",
              "      <th>work_experience_overall</th>\n",
              "      <th>work_experience_professional</th>\n",
              "      <th>education</th>\n",
              "      <th>gender</th>\n",
              "      <th>race</th>\n",
              "    </tr>\n",
              "  </thead>\n",
              "  <tbody>\n",
              "    <tr>\n",
              "      <th>0</th>\n",
              "      <td>2021-04-27 11:02:09.743</td>\n",
              "      <td>25-34</td>\n",
              "      <td>Education (Higher Education)</td>\n",
              "      <td>Research and Instruction Librarian</td>\n",
              "      <td>NaN</td>\n",
              "      <td>55000</td>\n",
              "      <td>0.0</td>\n",
              "      <td>USD</td>\n",
              "      <td>NaN</td>\n",
              "      <td>NaN</td>\n",
              "      <td>United States</td>\n",
              "      <td>Massachusetts</td>\n",
              "      <td>Boston</td>\n",
              "      <td>5-7 years</td>\n",
              "      <td>5-7 years</td>\n",
              "      <td>Master's degree</td>\n",
              "      <td>Woman</td>\n",
              "      <td>White</td>\n",
              "    </tr>\n",
              "    <tr>\n",
              "      <th>1</th>\n",
              "      <td>2021-04-27 11:02:21.562</td>\n",
              "      <td>25-34</td>\n",
              "      <td>Computing or Tech</td>\n",
              "      <td>Change &amp; Internal Communications Manager</td>\n",
              "      <td>NaN</td>\n",
              "      <td>54600</td>\n",
              "      <td>4000.0</td>\n",
              "      <td>GBP</td>\n",
              "      <td>NaN</td>\n",
              "      <td>NaN</td>\n",
              "      <td>United Kingdom</td>\n",
              "      <td>NaN</td>\n",
              "      <td>Cambridge</td>\n",
              "      <td>8 - 10 years</td>\n",
              "      <td>5-7 years</td>\n",
              "      <td>College degree</td>\n",
              "      <td>Non-binary</td>\n",
              "      <td>White</td>\n",
              "    </tr>\n",
              "    <tr>\n",
              "      <th>2</th>\n",
              "      <td>2021-04-27 11:02:38.125</td>\n",
              "      <td>25-34</td>\n",
              "      <td>Accounting, Banking &amp; Finance</td>\n",
              "      <td>Marketing Specialist</td>\n",
              "      <td>NaN</td>\n",
              "      <td>34000</td>\n",
              "      <td>NaN</td>\n",
              "      <td>USD</td>\n",
              "      <td>NaN</td>\n",
              "      <td>NaN</td>\n",
              "      <td>US</td>\n",
              "      <td>Tennessee</td>\n",
              "      <td>Chattanooga</td>\n",
              "      <td>2 - 4 years</td>\n",
              "      <td>2 - 4 years</td>\n",
              "      <td>College degree</td>\n",
              "      <td>Woman</td>\n",
              "      <td>White</td>\n",
              "    </tr>\n",
              "    <tr>\n",
              "      <th>3</th>\n",
              "      <td>2021-04-27 11:02:40.643</td>\n",
              "      <td>25-34</td>\n",
              "      <td>Nonprofits</td>\n",
              "      <td>Program Manager</td>\n",
              "      <td>NaN</td>\n",
              "      <td>62000</td>\n",
              "      <td>3000.0</td>\n",
              "      <td>USD</td>\n",
              "      <td>NaN</td>\n",
              "      <td>NaN</td>\n",
              "      <td>USA</td>\n",
              "      <td>Wisconsin</td>\n",
              "      <td>Milwaukee</td>\n",
              "      <td>8 - 10 years</td>\n",
              "      <td>5-7 years</td>\n",
              "      <td>College degree</td>\n",
              "      <td>Woman</td>\n",
              "      <td>White</td>\n",
              "    </tr>\n",
              "    <tr>\n",
              "      <th>4</th>\n",
              "      <td>2021-04-27 11:02:41.793</td>\n",
              "      <td>25-34</td>\n",
              "      <td>Accounting, Banking &amp; Finance</td>\n",
              "      <td>Accounting Manager</td>\n",
              "      <td>NaN</td>\n",
              "      <td>60000</td>\n",
              "      <td>7000.0</td>\n",
              "      <td>USD</td>\n",
              "      <td>NaN</td>\n",
              "      <td>NaN</td>\n",
              "      <td>US</td>\n",
              "      <td>South Carolina</td>\n",
              "      <td>Greenville</td>\n",
              "      <td>8 - 10 years</td>\n",
              "      <td>5-7 years</td>\n",
              "      <td>College degree</td>\n",
              "      <td>Woman</td>\n",
              "      <td>White</td>\n",
              "    </tr>\n",
              "  </tbody>\n",
              "</table>\n",
              "</div>\n",
              "      <button class=\"colab-df-convert\" onclick=\"convertToInteractive('df-ff46b70e-6f8a-490c-941f-3a76198d39b1')\"\n",
              "              title=\"Convert this dataframe to an interactive table.\"\n",
              "              style=\"display:none;\">\n",
              "        \n",
              "  <svg xmlns=\"http://www.w3.org/2000/svg\" height=\"24px\"viewBox=\"0 0 24 24\"\n",
              "       width=\"24px\">\n",
              "    <path d=\"M0 0h24v24H0V0z\" fill=\"none\"/>\n",
              "    <path d=\"M18.56 5.44l.94 2.06.94-2.06 2.06-.94-2.06-.94-.94-2.06-.94 2.06-2.06.94zm-11 1L8.5 8.5l.94-2.06 2.06-.94-2.06-.94L8.5 2.5l-.94 2.06-2.06.94zm10 10l.94 2.06.94-2.06 2.06-.94-2.06-.94-.94-2.06-.94 2.06-2.06.94z\"/><path d=\"M17.41 7.96l-1.37-1.37c-.4-.4-.92-.59-1.43-.59-.52 0-1.04.2-1.43.59L10.3 9.45l-7.72 7.72c-.78.78-.78 2.05 0 2.83L4 21.41c.39.39.9.59 1.41.59.51 0 1.02-.2 1.41-.59l7.78-7.78 2.81-2.81c.8-.78.8-2.07 0-2.86zM5.41 20L4 18.59l7.72-7.72 1.47 1.35L5.41 20z\"/>\n",
              "  </svg>\n",
              "      </button>\n",
              "      \n",
              "  <style>\n",
              "    .colab-df-container {\n",
              "      display:flex;\n",
              "      flex-wrap:wrap;\n",
              "      gap: 12px;\n",
              "    }\n",
              "\n",
              "    .colab-df-convert {\n",
              "      background-color: #E8F0FE;\n",
              "      border: none;\n",
              "      border-radius: 50%;\n",
              "      cursor: pointer;\n",
              "      display: none;\n",
              "      fill: #1967D2;\n",
              "      height: 32px;\n",
              "      padding: 0 0 0 0;\n",
              "      width: 32px;\n",
              "    }\n",
              "\n",
              "    .colab-df-convert:hover {\n",
              "      background-color: #E2EBFA;\n",
              "      box-shadow: 0px 1px 2px rgba(60, 64, 67, 0.3), 0px 1px 3px 1px rgba(60, 64, 67, 0.15);\n",
              "      fill: #174EA6;\n",
              "    }\n",
              "\n",
              "    [theme=dark] .colab-df-convert {\n",
              "      background-color: #3B4455;\n",
              "      fill: #D2E3FC;\n",
              "    }\n",
              "\n",
              "    [theme=dark] .colab-df-convert:hover {\n",
              "      background-color: #434B5C;\n",
              "      box-shadow: 0px 1px 3px 1px rgba(0, 0, 0, 0.15);\n",
              "      filter: drop-shadow(0px 1px 2px rgba(0, 0, 0, 0.3));\n",
              "      fill: #FFFFFF;\n",
              "    }\n",
              "  </style>\n",
              "\n",
              "      <script>\n",
              "        const buttonEl =\n",
              "          document.querySelector('#df-ff46b70e-6f8a-490c-941f-3a76198d39b1 button.colab-df-convert');\n",
              "        buttonEl.style.display =\n",
              "          google.colab.kernel.accessAllowed ? 'block' : 'none';\n",
              "\n",
              "        async function convertToInteractive(key) {\n",
              "          const element = document.querySelector('#df-ff46b70e-6f8a-490c-941f-3a76198d39b1');\n",
              "          const dataTable =\n",
              "            await google.colab.kernel.invokeFunction('convertToInteractive',\n",
              "                                                     [key], {});\n",
              "          if (!dataTable) return;\n",
              "\n",
              "          const docLinkHtml = 'Like what you see? Visit the ' +\n",
              "            '<a target=\"_blank\" href=https://colab.research.google.com/notebooks/data_table.ipynb>data table notebook</a>'\n",
              "            + ' to learn more about interactive tables.';\n",
              "          element.innerHTML = '';\n",
              "          dataTable['output_type'] = 'display_data';\n",
              "          await google.colab.output.renderOutput(dataTable, element);\n",
              "          const docLink = document.createElement('div');\n",
              "          docLink.innerHTML = docLinkHtml;\n",
              "          element.appendChild(docLink);\n",
              "        }\n",
              "      </script>\n",
              "    </div>\n",
              "  </div>\n",
              "  "
            ]
          },
          "metadata": {},
          "execution_count": 65
        }
      ],
      "source": [
        "df = pd.read_excel (r'salary_survey.xlsx')\n",
        "df.head()"
      ]
    },
    {
      "cell_type": "markdown",
      "source": [
        "#Mengecek dan Mengisi Data Kosong"
      ],
      "metadata": {
        "id": "WMuQhbrv4RQz"
      }
    },
    {
      "cell_type": "markdown",
      "source": [
        "##Mengecek Data Kosong"
      ],
      "metadata": {
        "id": "7LVZeuzziX9e"
      }
    },
    {
      "cell_type": "code",
      "source": [
        "print(df.isnull().sum())"
      ],
      "metadata": {
        "colab": {
          "base_uri": "https://localhost:8080/"
        },
        "id": "e3Mh93kRjAB1",
        "outputId": "ab4b4840-9a68-44bb-8b20-b9e950c9e08f"
      },
      "execution_count": 66,
      "outputs": [
        {
          "output_type": "stream",
          "name": "stdout",
          "text": [
            "Timestamp                           0\n",
            "age                                 0\n",
            "industry                           72\n",
            "job_title                           0\n",
            "job_title_additional_context    20713\n",
            "salary                              0\n",
            "additional_salary                7256\n",
            "currency                            0\n",
            "other_currency                  27749\n",
            "income_additional_context       24912\n",
            "country                             0\n",
            "us_country                       4982\n",
            "city                               75\n",
            "work_experience_overall             0\n",
            "work_experience_professional        0\n",
            "education                         214\n",
            "gender                            167\n",
            "race                              169\n",
            "dtype: int64\n"
          ]
        }
      ]
    },
    {
      "cell_type": "markdown",
      "source": [
        "##Mengisi Missing Value"
      ],
      "metadata": {
        "id": "o2odzPQO5ZqZ"
      }
    },
    {
      "cell_type": "markdown",
      "source": [
        "### Missing Value Kolom Industry & Imputasi Modus\n",
        "Pada kolom Industry terdapat 72 field kosong. Untuk mengatasi hal tersebut, kami mengambil nilai modus di kolom industry untuk setiap nilai job_title yang terisi. Kemudian, akan mengisi missing value di kolom industry dengan nilai modus yang sesuai dengan job_title "
      ],
      "metadata": {
        "id": "qqmg1A7eb4xb"
      }
    },
    {
      "cell_type": "code",
      "source": [
        "# Membuat DataFrame baru hanya dengan data yang memiliki missing value di kolom industry\n",
        "missing_industry_df = df[df['industry'].isnull()]\n",
        "\n",
        "# Filter data yang memiliki nilai di kolom job_title\n",
        "missing_industry_with_jobtitle_df = missing_industry_df[missing_industry_df['job_title'].notna()]\n",
        "\n",
        "# Tampilkan data yang memiliki missing value di kolom industry dan nilai di bagian kolom job_title\n",
        "missing_industry_with_jobtitle_df"
      ],
      "metadata": {
        "colab": {
          "base_uri": "https://localhost:8080/",
          "height": 731
        },
        "id": "99hRKHBNcv3Q",
        "outputId": "ba73feeb-3553-4388-cdd2-ba9921245f25"
      },
      "execution_count": 67,
      "outputs": [
        {
          "output_type": "execute_result",
          "data": {
            "text/plain": [
              "                    Timestamp    age industry                 job_title  \\\n",
              "360   2021-04-27 11:08:41.197  45-54      NaN          Proposal Manager   \n",
              "645   2021-04-27 11:12:58.989  35-44      NaN              Legal editor   \n",
              "1604  2021-04-27 11:28:19.790  25-34      NaN     Commissioning Editor    \n",
              "2055  2021-04-27 11:37:01.190  35-44      NaN          Research Manager   \n",
              "2063  2021-04-27 11:37:11.960  35-44      NaN            office manager   \n",
              "...                       ...    ...      ...                       ...   \n",
              "27250 2021-10-26 13:46:24.184  55-64      NaN    Technician Automation    \n",
              "27592 2021-12-28 18:15:36.647  45-54      NaN       Associate professor   \n",
              "27730 2022-03-27 10:59:32.710  18-24      NaN  chief executive official   \n",
              "27853 2022-08-04 18:33:50.141  18-24      NaN                 Archivist   \n",
              "27902 2022-11-15 18:24:40.674  35-44      NaN      Senior IT Consultant   \n",
              "\n",
              "                  job_title_additional_context     salary  additional_salary  \\\n",
              "360                                        NaN      87938             4000.0   \n",
              "645                                        NaN      82000             8200.0   \n",
              "1604                                       NaN      36000                NaN   \n",
              "2055                                       NaN     115000                NaN   \n",
              "2063   manage a building vs managing employees      40000                NaN   \n",
              "...                                        ...        ...                ...   \n",
              "27250                                      NaN      35000                0.0   \n",
              "27592                                  Tenured      80000                0.0   \n",
              "27730                                      NaN         50                NaN   \n",
              "27853                                      NaN      50000                NaN   \n",
              "27902                                      NaN  120000000                NaN   \n",
              "\n",
              "      currency other_currency           income_additional_context  \\\n",
              "360        USD            NaN                                 NaN   \n",
              "645        USD            NaN                                 NaN   \n",
              "1604       GBP            NaN                                 NaN   \n",
              "2055       USD            NaN                                 NaN   \n",
              "2063       USD            NaN                                 NaN   \n",
              "...        ...            ...                                 ...   \n",
              "27250      EUR            NaN                                 NaN   \n",
              "27592      USD            NaN  Humanities, regional state college   \n",
              "27730      ZAR            NaN                                 NaN   \n",
              "27853      USD            NaN                                 NaN   \n",
              "27902    Other            COP                                 NaN   \n",
              "\n",
              "             country            us_country        city  \\\n",
              "360               US        North Carolina  Wilmington   \n",
              "645              USA              New York   Rochester   \n",
              "1604              UK                   NaN      London   \n",
              "2055              US  District of Columbia          DC   \n",
              "2063             USA                Nevada   Las Vegas   \n",
              "...              ...                   ...         ...   \n",
              "27250       Ireland                    NaN    Donegal    \n",
              "27592            USA         New Hampshire       Keene   \n",
              "27730          spain                   NaN   castellon   \n",
              "27853  United States             Wisconsin     Madison   \n",
              "27902       Colombia                   NaN      Bogota   \n",
              "\n",
              "      work_experience_overall work_experience_professional        education  \\\n",
              "360             21 - 30 years                11 - 20 years   College degree   \n",
              "645             11 - 20 years                11 - 20 years  Master's degree   \n",
              "1604            11 - 20 years                 8 - 10 years  Master's degree   \n",
              "2055            21 - 30 years                11 - 20 years  Master's degree   \n",
              "2063            11 - 20 years                11 - 20 years      High School   \n",
              "...                       ...                          ...              ...   \n",
              "27250           31 - 40 years                31 - 40 years  Master's degree   \n",
              "27592           11 - 20 years                11 - 20 years              PhD   \n",
              "27730            8 - 10 years                11 - 20 years              NaN   \n",
              "27853             2 - 4 years                  2 - 4 years  Master's degree   \n",
              "27902           11 - 20 years                 8 - 10 years   College degree   \n",
              "\n",
              "      gender                                 race  \n",
              "360    Woman                                White  \n",
              "645    Woman                                White  \n",
              "1604   Woman       Asian or Asian American, White  \n",
              "2055   Woman                                White  \n",
              "2063   Woman                                White  \n",
              "...      ...                                  ...  \n",
              "27250    Man                                White  \n",
              "27592  Woman                                White  \n",
              "27730    NaN                                  NaN  \n",
              "27853    Man                                White  \n",
              "27902    Man  Hispanic, Latino, or Spanish origin  \n",
              "\n",
              "[72 rows x 18 columns]"
            ],
            "text/html": [
              "\n",
              "  <div id=\"df-e8a4d9da-f97f-469b-b88d-47c02b7be4b4\">\n",
              "    <div class=\"colab-df-container\">\n",
              "      <div>\n",
              "<style scoped>\n",
              "    .dataframe tbody tr th:only-of-type {\n",
              "        vertical-align: middle;\n",
              "    }\n",
              "\n",
              "    .dataframe tbody tr th {\n",
              "        vertical-align: top;\n",
              "    }\n",
              "\n",
              "    .dataframe thead th {\n",
              "        text-align: right;\n",
              "    }\n",
              "</style>\n",
              "<table border=\"1\" class=\"dataframe\">\n",
              "  <thead>\n",
              "    <tr style=\"text-align: right;\">\n",
              "      <th></th>\n",
              "      <th>Timestamp</th>\n",
              "      <th>age</th>\n",
              "      <th>industry</th>\n",
              "      <th>job_title</th>\n",
              "      <th>job_title_additional_context</th>\n",
              "      <th>salary</th>\n",
              "      <th>additional_salary</th>\n",
              "      <th>currency</th>\n",
              "      <th>other_currency</th>\n",
              "      <th>income_additional_context</th>\n",
              "      <th>country</th>\n",
              "      <th>us_country</th>\n",
              "      <th>city</th>\n",
              "      <th>work_experience_overall</th>\n",
              "      <th>work_experience_professional</th>\n",
              "      <th>education</th>\n",
              "      <th>gender</th>\n",
              "      <th>race</th>\n",
              "    </tr>\n",
              "  </thead>\n",
              "  <tbody>\n",
              "    <tr>\n",
              "      <th>360</th>\n",
              "      <td>2021-04-27 11:08:41.197</td>\n",
              "      <td>45-54</td>\n",
              "      <td>NaN</td>\n",
              "      <td>Proposal Manager</td>\n",
              "      <td>NaN</td>\n",
              "      <td>87938</td>\n",
              "      <td>4000.0</td>\n",
              "      <td>USD</td>\n",
              "      <td>NaN</td>\n",
              "      <td>NaN</td>\n",
              "      <td>US</td>\n",
              "      <td>North Carolina</td>\n",
              "      <td>Wilmington</td>\n",
              "      <td>21 - 30 years</td>\n",
              "      <td>11 - 20 years</td>\n",
              "      <td>College degree</td>\n",
              "      <td>Woman</td>\n",
              "      <td>White</td>\n",
              "    </tr>\n",
              "    <tr>\n",
              "      <th>645</th>\n",
              "      <td>2021-04-27 11:12:58.989</td>\n",
              "      <td>35-44</td>\n",
              "      <td>NaN</td>\n",
              "      <td>Legal editor</td>\n",
              "      <td>NaN</td>\n",
              "      <td>82000</td>\n",
              "      <td>8200.0</td>\n",
              "      <td>USD</td>\n",
              "      <td>NaN</td>\n",
              "      <td>NaN</td>\n",
              "      <td>USA</td>\n",
              "      <td>New York</td>\n",
              "      <td>Rochester</td>\n",
              "      <td>11 - 20 years</td>\n",
              "      <td>11 - 20 years</td>\n",
              "      <td>Master's degree</td>\n",
              "      <td>Woman</td>\n",
              "      <td>White</td>\n",
              "    </tr>\n",
              "    <tr>\n",
              "      <th>1604</th>\n",
              "      <td>2021-04-27 11:28:19.790</td>\n",
              "      <td>25-34</td>\n",
              "      <td>NaN</td>\n",
              "      <td>Commissioning Editor</td>\n",
              "      <td>NaN</td>\n",
              "      <td>36000</td>\n",
              "      <td>NaN</td>\n",
              "      <td>GBP</td>\n",
              "      <td>NaN</td>\n",
              "      <td>NaN</td>\n",
              "      <td>UK</td>\n",
              "      <td>NaN</td>\n",
              "      <td>London</td>\n",
              "      <td>11 - 20 years</td>\n",
              "      <td>8 - 10 years</td>\n",
              "      <td>Master's degree</td>\n",
              "      <td>Woman</td>\n",
              "      <td>Asian or Asian American, White</td>\n",
              "    </tr>\n",
              "    <tr>\n",
              "      <th>2055</th>\n",
              "      <td>2021-04-27 11:37:01.190</td>\n",
              "      <td>35-44</td>\n",
              "      <td>NaN</td>\n",
              "      <td>Research Manager</td>\n",
              "      <td>NaN</td>\n",
              "      <td>115000</td>\n",
              "      <td>NaN</td>\n",
              "      <td>USD</td>\n",
              "      <td>NaN</td>\n",
              "      <td>NaN</td>\n",
              "      <td>US</td>\n",
              "      <td>District of Columbia</td>\n",
              "      <td>DC</td>\n",
              "      <td>21 - 30 years</td>\n",
              "      <td>11 - 20 years</td>\n",
              "      <td>Master's degree</td>\n",
              "      <td>Woman</td>\n",
              "      <td>White</td>\n",
              "    </tr>\n",
              "    <tr>\n",
              "      <th>2063</th>\n",
              "      <td>2021-04-27 11:37:11.960</td>\n",
              "      <td>35-44</td>\n",
              "      <td>NaN</td>\n",
              "      <td>office manager</td>\n",
              "      <td>manage a building vs managing employees</td>\n",
              "      <td>40000</td>\n",
              "      <td>NaN</td>\n",
              "      <td>USD</td>\n",
              "      <td>NaN</td>\n",
              "      <td>NaN</td>\n",
              "      <td>USA</td>\n",
              "      <td>Nevada</td>\n",
              "      <td>Las Vegas</td>\n",
              "      <td>11 - 20 years</td>\n",
              "      <td>11 - 20 years</td>\n",
              "      <td>High School</td>\n",
              "      <td>Woman</td>\n",
              "      <td>White</td>\n",
              "    </tr>\n",
              "    <tr>\n",
              "      <th>...</th>\n",
              "      <td>...</td>\n",
              "      <td>...</td>\n",
              "      <td>...</td>\n",
              "      <td>...</td>\n",
              "      <td>...</td>\n",
              "      <td>...</td>\n",
              "      <td>...</td>\n",
              "      <td>...</td>\n",
              "      <td>...</td>\n",
              "      <td>...</td>\n",
              "      <td>...</td>\n",
              "      <td>...</td>\n",
              "      <td>...</td>\n",
              "      <td>...</td>\n",
              "      <td>...</td>\n",
              "      <td>...</td>\n",
              "      <td>...</td>\n",
              "      <td>...</td>\n",
              "    </tr>\n",
              "    <tr>\n",
              "      <th>27250</th>\n",
              "      <td>2021-10-26 13:46:24.184</td>\n",
              "      <td>55-64</td>\n",
              "      <td>NaN</td>\n",
              "      <td>Technician Automation</td>\n",
              "      <td>NaN</td>\n",
              "      <td>35000</td>\n",
              "      <td>0.0</td>\n",
              "      <td>EUR</td>\n",
              "      <td>NaN</td>\n",
              "      <td>NaN</td>\n",
              "      <td>Ireland</td>\n",
              "      <td>NaN</td>\n",
              "      <td>Donegal</td>\n",
              "      <td>31 - 40 years</td>\n",
              "      <td>31 - 40 years</td>\n",
              "      <td>Master's degree</td>\n",
              "      <td>Man</td>\n",
              "      <td>White</td>\n",
              "    </tr>\n",
              "    <tr>\n",
              "      <th>27592</th>\n",
              "      <td>2021-12-28 18:15:36.647</td>\n",
              "      <td>45-54</td>\n",
              "      <td>NaN</td>\n",
              "      <td>Associate professor</td>\n",
              "      <td>Tenured</td>\n",
              "      <td>80000</td>\n",
              "      <td>0.0</td>\n",
              "      <td>USD</td>\n",
              "      <td>NaN</td>\n",
              "      <td>Humanities, regional state college</td>\n",
              "      <td>USA</td>\n",
              "      <td>New Hampshire</td>\n",
              "      <td>Keene</td>\n",
              "      <td>11 - 20 years</td>\n",
              "      <td>11 - 20 years</td>\n",
              "      <td>PhD</td>\n",
              "      <td>Woman</td>\n",
              "      <td>White</td>\n",
              "    </tr>\n",
              "    <tr>\n",
              "      <th>27730</th>\n",
              "      <td>2022-03-27 10:59:32.710</td>\n",
              "      <td>18-24</td>\n",
              "      <td>NaN</td>\n",
              "      <td>chief executive official</td>\n",
              "      <td>NaN</td>\n",
              "      <td>50</td>\n",
              "      <td>NaN</td>\n",
              "      <td>ZAR</td>\n",
              "      <td>NaN</td>\n",
              "      <td>NaN</td>\n",
              "      <td>spain</td>\n",
              "      <td>NaN</td>\n",
              "      <td>castellon</td>\n",
              "      <td>8 - 10 years</td>\n",
              "      <td>11 - 20 years</td>\n",
              "      <td>NaN</td>\n",
              "      <td>NaN</td>\n",
              "      <td>NaN</td>\n",
              "    </tr>\n",
              "    <tr>\n",
              "      <th>27853</th>\n",
              "      <td>2022-08-04 18:33:50.141</td>\n",
              "      <td>18-24</td>\n",
              "      <td>NaN</td>\n",
              "      <td>Archivist</td>\n",
              "      <td>NaN</td>\n",
              "      <td>50000</td>\n",
              "      <td>NaN</td>\n",
              "      <td>USD</td>\n",
              "      <td>NaN</td>\n",
              "      <td>NaN</td>\n",
              "      <td>United States</td>\n",
              "      <td>Wisconsin</td>\n",
              "      <td>Madison</td>\n",
              "      <td>2 - 4 years</td>\n",
              "      <td>2 - 4 years</td>\n",
              "      <td>Master's degree</td>\n",
              "      <td>Man</td>\n",
              "      <td>White</td>\n",
              "    </tr>\n",
              "    <tr>\n",
              "      <th>27902</th>\n",
              "      <td>2022-11-15 18:24:40.674</td>\n",
              "      <td>35-44</td>\n",
              "      <td>NaN</td>\n",
              "      <td>Senior IT Consultant</td>\n",
              "      <td>NaN</td>\n",
              "      <td>120000000</td>\n",
              "      <td>NaN</td>\n",
              "      <td>Other</td>\n",
              "      <td>COP</td>\n",
              "      <td>NaN</td>\n",
              "      <td>Colombia</td>\n",
              "      <td>NaN</td>\n",
              "      <td>Bogota</td>\n",
              "      <td>11 - 20 years</td>\n",
              "      <td>8 - 10 years</td>\n",
              "      <td>College degree</td>\n",
              "      <td>Man</td>\n",
              "      <td>Hispanic, Latino, or Spanish origin</td>\n",
              "    </tr>\n",
              "  </tbody>\n",
              "</table>\n",
              "<p>72 rows × 18 columns</p>\n",
              "</div>\n",
              "      <button class=\"colab-df-convert\" onclick=\"convertToInteractive('df-e8a4d9da-f97f-469b-b88d-47c02b7be4b4')\"\n",
              "              title=\"Convert this dataframe to an interactive table.\"\n",
              "              style=\"display:none;\">\n",
              "        \n",
              "  <svg xmlns=\"http://www.w3.org/2000/svg\" height=\"24px\"viewBox=\"0 0 24 24\"\n",
              "       width=\"24px\">\n",
              "    <path d=\"M0 0h24v24H0V0z\" fill=\"none\"/>\n",
              "    <path d=\"M18.56 5.44l.94 2.06.94-2.06 2.06-.94-2.06-.94-.94-2.06-.94 2.06-2.06.94zm-11 1L8.5 8.5l.94-2.06 2.06-.94-2.06-.94L8.5 2.5l-.94 2.06-2.06.94zm10 10l.94 2.06.94-2.06 2.06-.94-2.06-.94-.94-2.06-.94 2.06-2.06.94z\"/><path d=\"M17.41 7.96l-1.37-1.37c-.4-.4-.92-.59-1.43-.59-.52 0-1.04.2-1.43.59L10.3 9.45l-7.72 7.72c-.78.78-.78 2.05 0 2.83L4 21.41c.39.39.9.59 1.41.59.51 0 1.02-.2 1.41-.59l7.78-7.78 2.81-2.81c.8-.78.8-2.07 0-2.86zM5.41 20L4 18.59l7.72-7.72 1.47 1.35L5.41 20z\"/>\n",
              "  </svg>\n",
              "      </button>\n",
              "      \n",
              "  <style>\n",
              "    .colab-df-container {\n",
              "      display:flex;\n",
              "      flex-wrap:wrap;\n",
              "      gap: 12px;\n",
              "    }\n",
              "\n",
              "    .colab-df-convert {\n",
              "      background-color: #E8F0FE;\n",
              "      border: none;\n",
              "      border-radius: 50%;\n",
              "      cursor: pointer;\n",
              "      display: none;\n",
              "      fill: #1967D2;\n",
              "      height: 32px;\n",
              "      padding: 0 0 0 0;\n",
              "      width: 32px;\n",
              "    }\n",
              "\n",
              "    .colab-df-convert:hover {\n",
              "      background-color: #E2EBFA;\n",
              "      box-shadow: 0px 1px 2px rgba(60, 64, 67, 0.3), 0px 1px 3px 1px rgba(60, 64, 67, 0.15);\n",
              "      fill: #174EA6;\n",
              "    }\n",
              "\n",
              "    [theme=dark] .colab-df-convert {\n",
              "      background-color: #3B4455;\n",
              "      fill: #D2E3FC;\n",
              "    }\n",
              "\n",
              "    [theme=dark] .colab-df-convert:hover {\n",
              "      background-color: #434B5C;\n",
              "      box-shadow: 0px 1px 3px 1px rgba(0, 0, 0, 0.15);\n",
              "      filter: drop-shadow(0px 1px 2px rgba(0, 0, 0, 0.3));\n",
              "      fill: #FFFFFF;\n",
              "    }\n",
              "  </style>\n",
              "\n",
              "      <script>\n",
              "        const buttonEl =\n",
              "          document.querySelector('#df-e8a4d9da-f97f-469b-b88d-47c02b7be4b4 button.colab-df-convert');\n",
              "        buttonEl.style.display =\n",
              "          google.colab.kernel.accessAllowed ? 'block' : 'none';\n",
              "\n",
              "        async function convertToInteractive(key) {\n",
              "          const element = document.querySelector('#df-e8a4d9da-f97f-469b-b88d-47c02b7be4b4');\n",
              "          const dataTable =\n",
              "            await google.colab.kernel.invokeFunction('convertToInteractive',\n",
              "                                                     [key], {});\n",
              "          if (!dataTable) return;\n",
              "\n",
              "          const docLinkHtml = 'Like what you see? Visit the ' +\n",
              "            '<a target=\"_blank\" href=https://colab.research.google.com/notebooks/data_table.ipynb>data table notebook</a>'\n",
              "            + ' to learn more about interactive tables.';\n",
              "          element.innerHTML = '';\n",
              "          dataTable['output_type'] = 'display_data';\n",
              "          await google.colab.output.renderOutput(dataTable, element);\n",
              "          const docLink = document.createElement('div');\n",
              "          docLink.innerHTML = docLinkHtml;\n",
              "          element.appendChild(docLink);\n",
              "        }\n",
              "      </script>\n",
              "    </div>\n",
              "  </div>\n",
              "  "
            ]
          },
          "metadata": {},
          "execution_count": 67
        }
      ]
    },
    {
      "cell_type": "code",
      "source": [
        "# Cek nilai unik di kolom job_title ketika industry NA\n",
        "unique_job_titles = missing_industry_df['job_title'].unique()\n",
        "unique_job_titles"
      ],
      "metadata": {
        "colab": {
          "base_uri": "https://localhost:8080/"
        },
        "id": "kfwa4j0adZAN",
        "outputId": "386d1a38-55bc-4b14-cb21-4b78a36ad591"
      },
      "execution_count": 69,
      "outputs": [
        {
          "output_type": "execute_result",
          "data": {
            "text/plain": [
              "array(['Proposal Manager', 'Legal editor', 'Commissioning Editor ',\n",
              "       'Research Manager', 'office manager', 'Research Analyst',\n",
              "       'Senior Regulatory Affairs Specialist', 'Adult Services Librarian',\n",
              "       'Program Manager ', 'GIS Analyst', 'Director of Compliance', 'EA',\n",
              "       'Research Scientist', 'Youth Services Librarian',\n",
              "       'Financial Analyst (part-qualified)', 'Executive Assistant II',\n",
              "       'Office Supervisor ', 'Chief of Staff, Customer Experience',\n",
              "       'Veterinarian ', 'Lab Assistant (Level II)',\n",
              "       'Customer Service Supervisor', 'Customer Service analyst ',\n",
              "       'Manager, strategy', 'People Operations Manager ',\n",
              "       'VP of Finance & Operations', 'Office manager ', 'UX Designer',\n",
              "       'Senior Manager of Ops Strategy', 'Credit Supervisor ',\n",
              "       'Operations Manager', 'hr manager', 'Director of HR',\n",
              "       'Accounting manager', 'HR Generalist II',\n",
              "       'Campaign and Program Manager ', 'Director',\n",
              "       'Marketing Coordinator', 'Vendor Manager',\n",
              "       'Real Estate Services Assistant', 'Translator', 'Business Analyst',\n",
              "       'Administrative Assistant', 'Technical specialist ',\n",
              "       'Order Management Analyst ', 'Auto liability representative 2',\n",
              "       'Inventory Specialist', 'Software engineer ',\n",
              "       'Government Statistician',\n",
              "       'Associate Director of Customer Service', 'QA manager',\n",
              "       'Account management0', 'Biologist 1', 'Chemist',\n",
              "       'Cybersecurity senior risk specialist ',\n",
              "       'Digital strategy manager', 'Early childhood teacher', 'Svp',\n",
              "       'supply Planner', 'Digital Marketing Specialist', 'IT Manager',\n",
              "       'People Operations Manager', 'Archivist',\n",
              "       'Data Analytics Engineer', 'Contract Administrator',\n",
              "       'Instructor/Operator', 'Technician Automation ',\n",
              "       'Associate professor', 'chief executive official',\n",
              "       'Senior IT Consultant'], dtype=object)"
            ]
          },
          "metadata": {},
          "execution_count": 69
        }
      ]
    },
    {
      "cell_type": "code",
      "source": [
        "# Mencari nilai modus di kolom industry untuk job_title unique\n",
        "pm_industry_mode = df[df['job_title'] == 'Proposal Manager']['industry'].mode().iloc[0]\n",
        "le_industry_mode = df[df['job_title'] == 'Legal Editor']['industry'].mode().iloc[0]\n",
        "ce_industry_mode = df[df['job_title'] == 'Editor']['industry'].mode().iloc[0]\n",
        "rm_industry_mode = df[df['job_title'] == 'Research Manager']['industry'].mode().iloc[0]\n",
        "om_industry_mode = df[df['job_title'] == 'office manager']['industry'].mode().iloc[0]\n",
        "ra_industry_mode = df[df['job_title'] == 'Research Analyst']['industry'].mode().iloc[0]\n",
        "sras_industry_mode = df[df['job_title'] == 'Senior Regulatory Affairs Specialist']['industry'].mode().iloc[0]\n",
        "asl_industry_mode = df[df['job_title'] == 'Adult Services Librarian']['industry'].mode().iloc[0]\n",
        "prom_industry_mode = df[df['job_title'] == 'Program Manager']['industry'].mode().iloc[0]\n",
        "ga_industry_mode = df[df['job_title'] == 'GIS Analyst']['industry'].mode().iloc[0]\n",
        "doc_industry_mode = df[df['job_title'] == 'Director of Compliance']['industry'].mode().iloc[0]\n",
        "ea_industry_mode = df[df['job_title'] == 'EA']['industry'].mode().iloc[0]\n",
        "rs_industry_mode = df[df['job_title'] == 'Research Scientist']['industry'].mode().iloc[0]\n",
        "ysl_industry_mode = df[df['job_title'] == 'Youth Services Librarian']['industry'].mode().iloc[0]\n",
        "fa_industry_mode = df[df['job_title'] == 'Financial Analyst']['industry'].mode().iloc[0]\n",
        "eai_industry_mode = df[df['job_title'] == 'Executive Assistant']['industry'].mode().iloc[0]\n",
        "os_industry_mode = df[df['job_title'] == 'Office Supervisor']['industry'].mode().iloc[0]\n",
        "cos_industry_mode = df[df['job_title'] == 'Chief of Staff']['industry'].mode().iloc[0]\n",
        "vet_industry_mode = df[df['job_title'] == 'Veterinarian']['industry'].mode().iloc[0]\n",
        "la_industry_mode = df[df['job_title'] == 'Lab Assistant']['industry'].mode().iloc[0]\n",
        "css_industry_mode = df[df['job_title'] == 'Customer Service Supervisor']['industry'].mode().iloc[0]\n",
        "csa_industry_mode = df[df['job_title'] == 'Customer Service']['industry'].mode().iloc[0]\n",
        "ms_industry_mode = df[df['job_title'] == 'Manager']['industry'].mode().iloc[0]\n",
        "pom_industry_mode = df[df['job_title'] == 'People Operations Manager']['industry'].mode().iloc[0]\n",
        "fo_industry_mode = df[df['job_title'] == 'Director of Finance & Operations']['industry'].mode().iloc[0]\n",
        "uxd_industry_mode = df[df['job_title'] == 'UX Designer']['industry'].mode().iloc[0]\n",
        "sm_industry_mode = df[df['job_title'] == 'Senior Manager']['industry'].mode().iloc[0]\n",
        "cre_industry_mode = df[df['job_title'] == 'Credit and collections supervisor ']['industry'].mode().iloc[0]\n",
        "osm_industry_mode = df[df['job_title'] == 'Operations Manager']['industry'].mode().iloc[0]\n",
        "hrm_industry_mode = df[df['job_title'] == 'HR Manager']['industry'].mode().iloc[0]\n",
        "dhr_industry_mode = df[df['job_title'] == 'Director of HR']['industry'].mode().iloc[0]\n",
        "am_industry_mode = df[df['job_title'] == 'Accounting Manager']['industry'].mode().iloc[0]\n",
        "hrg_industry_mode = df[df['job_title'] == 'HR Generalist II']['industry'].mode().iloc[0]\n",
        "cm_industry_mode = df[df['job_title'] == 'Campaign Manager']['industry'].mode().iloc[0]\n",
        "dir_industry_mode = df[df['job_title'] == 'Director']['industry'].mode().iloc[0]\n",
        "mcor_industry_mode = df[df['job_title'] == 'Marketing Coordinator']['industry'].mode().iloc[0]\n",
        "vem_industry_mode = df[df['job_title'] == ' Vendor Manager']['industry'].mode().iloc[0]\n",
        "trans_industry_mode = df[df['job_title'] == 'Translator']['industry'].mode().iloc[0]\n",
        "ba_industry_mode = df[df['job_title'] == 'Business Analyst']['industry'].mode().iloc[0]\n",
        "aa_industry_mode = df[df['job_title'] == 'Administrative Assistant']['industry'].mode().iloc[0]\n",
        "ts_industry_mode = df[df['job_title'] == 'Technical specialist']['industry'].mode().iloc[0]\n",
        "manag_industry_mode = df[df['job_title'] == 'Management Analyst']['industry'].mode().iloc[0]\n",
        "auto_industry_mode = df[df['job_title'] == 'Auto Liability Claims Adjuster']['industry'].mode().iloc[0]\n",
        "is_industry_mode = df[df['job_title'] == 'Inventory Specialist']['industry'].mode().iloc[0]\n",
        "seng_industry_mode = df[df['job_title'] == 'Software Engineer']['industry'].mode().iloc[0]\n",
        "docs_industry_mode = df[df['job_title'] == 'Director of Customer Service ']['industry'].mode().iloc[0]\n",
        "qam_industry_mode = df[df['job_title'] == 'QA manager']['industry'].mode().iloc[0]\n",
        "amd_industry_mode = df[df['job_title'] == 'Account Management Director']['industry'].mode().iloc[0]\n",
        "bio_industry_mode = df[df['job_title'] == 'Biologist']['industry'].mode().iloc[0]\n",
        "che_industry_mode = df[df['job_title'] == 'Chemist']['industry'].mode().iloc[0]\n",
        "dsm_industry_mode = df[df['job_title'] == 'Digital Strategy Manager']['industry'].mode().iloc[0]\n",
        "ect_industry_mode = df[df['job_title'] == 'Early childhood teacher']['industry'].mode().iloc[0]\n",
        "svp_industry_mode = df[df['job_title'] == 'SVP']['industry'].mode().iloc[0]\n",
        "sp_industry_mode = df[df['job_title'] == 'Supply planner ']['industry'].mode().iloc[0]\n",
        "dms_industry_mode = df[df['job_title'] == 'Digital Marketing Specialist']['industry'].mode().iloc[0]\n",
        "itm_industry_mode = df[df['job_title'] == 'IT Manager']['industry'].mode().iloc[0]\n",
        "arch_industry_mode = df[df['job_title'] == 'Archivist']['industry'].mode().iloc[0]\n",
        "dan_industry_mode = df[df['job_title'] == 'Analyst']['industry'].mode().iloc[0]\n",
        "cad_industry_mode = df[df['job_title'] == 'Contract Administrator']['industry'].mode().iloc[0]\n",
        "inst_industry_mode = df[df['job_title'] == 'Instructor']['industry'].mode().iloc[0]\n",
        "ap_industry_mode = df[df['job_title'] == 'Associate Professor']['industry'].mode().iloc[0]\n",
        "ceo_industry_mode = df[df['job_title'] == 'CEO']['industry'].mode().iloc[0]\n",
        "sitc_industry_mode = df[df['job_title'] == 'Senior IT Consultant']['industry'].mode().iloc[0]\n",
        "res_industry_mode = df[df['job_title'] == 'Research Scientist']['industry'].mode().iloc[0]\n",
        "offs_industry_mode = df[df['job_title'] == 'Office Supervisor']['industry'].mode().iloc[0]\n",
        "veter_industry_mode = df[df['job_title'] == 'Veterinarian']['industry'].mode().iloc[0]\n",
        "techs_industry_mode = df[df['job_title'] == 'Technical Specialist']['industry'].mode().iloc[0]\n",
        "\n",
        "\n",
        "# Mengisi missing value di kolom industry dengan nilai modus yang sesuai\n",
        "df.loc[(df['job_title'] == 'Proposal Manager') & (df['industry'].isnull()), 'industry'] = pm_industry_mode\n",
        "df.loc[(df['job_title'] == 'Legal Editor') & (df['industry'].isnull()), 'industry'] = le_industry_mode\n",
        "df.loc[(df['job_title'] == 'Commissioning Editor') & (df['industry'].isnull()), 'industry'] = ce_industry_mode\n",
        "df.loc[(df['job_title'] == 'Research Manager') & (df['industry'].isnull()), 'industry'] = rm_industry_mode\n",
        "df.loc[(df['job_title'] == 'office manager') & (df['industry'].isnull()), 'industry'] = om_industry_mode\n",
        "df.loc[(df['job_title'] == 'Research Analyst') & (df['industry'].isnull()), 'industry'] = ra_industry_mode\n",
        "df.loc[(df['job_title'] == 'Senior Regulatory Affairs Specialist') & (df['industry'].isnull()), 'industry'] = sras_industry_mode\n",
        "df.loc[(df['job_title'] == 'Adult Services Librarian') & (df['industry'].isnull()), 'industry'] = asl_industry_mode\n",
        "df.loc[(df['job_title'] == 'Program Manager ') & (df['industry'].isnull()), 'industry'] = prom_industry_mode\n",
        "df.loc[(df['job_title'] == 'GIS Analyst') & (df['industry'].isnull()), 'industry'] = ga_industry_mode\n",
        "df.loc[(df['job_title'] == 'Director of Compliance') & (df['industry'].isnull()), 'industry'] = doc_industry_mode\n",
        "df.loc[(df['job_title'] == 'EA') & (df['industry'].isnull()), 'industry'] = ea_industry_mode\n",
        "df.loc[(df['job_title'] == 'Youth Services Librarian') & (df['industry'].isnull()), 'industry'] = ysl_industry_mode\n",
        "df.loc[(df['job_title'] == 'Financial Analyst (part-qualified)') & (df['industry'].isnull()), 'industry'] = fa_industry_mode\n",
        "df.loc[(df['job_title'] == 'Executive Assistant II') & (df['industry'].isnull()), 'industry'] = eai_industry_mode\n",
        "df.loc[(df['job_title'] == 'Office Supervisor') & (df['industry'].isnull()), 'industry'] = os_industry_mode\n",
        "df.loc[(df['job_title'] == 'Chief of Staff, Customer Experience') & (df['industry'].isnull()), 'industry'] = cos_industry_mode\n",
        "df.loc[(df['job_title'] == 'Veterinarian') & (df['industry'].isnull()), 'industry'] = vet_industry_mode\n",
        "df.loc[(df['job_title'] == 'Lab Assistant (Level II)') & (df['industry'].isnull()), 'industry'] = la_industry_mode\n",
        "df.loc[(df['job_title'] == 'Customer Service Supervisor') & (df['industry'].isnull()), 'industry'] = css_industry_mode\n",
        "df.loc[(df['job_title'] == 'Customer Service analyst') & (df['industry'].isnull()), 'industry'] = csa_industry_mode\n",
        "df.loc[(df['job_title'] == 'Manager, strategy') & (df['industry'].isnull()), 'industry'] = ms_industry_mode\n",
        "df.loc[(df['job_title'] == 'People Operations Manager') & (df['industry'].isnull()), 'industry'] = pom_industry_mode\n",
        "df.loc[(df['job_title'] == 'VP of Finance & Operations') & (df['industry'].isnull()), 'industry'] = fo_industry_mode\n",
        "df.loc[(df['job_title'] == 'Office manager') & (df['industry'].isnull()), 'industry'] = om_industry_mode\n",
        "df.loc[(df['job_title'] == 'UX Designer') & (df['industry'].isnull()), 'industry'] = uxd_industry_mode\n",
        "df.loc[(df['job_title'] == 'Senior Manager of Ops Strategy') & (df['industry'].isnull()), 'industry'] = sm_industry_mode\n",
        "df.loc[(df['job_title'] == 'Credit Supervisor') & (df['industry'].isnull()), 'industry'] = cre_industry_mode\n",
        "df.loc[(df['job_title'] == 'Operations Manager') & (df['industry'].isnull()), 'industry'] = osm_industry_mode\n",
        "df.loc[(df['job_title'] == 'hr manager') & (df['industry'].isnull()), 'industry'] = hrm_industry_mode\n",
        "df.loc[(df['job_title'] == 'Director of HR') & (df['industry'].isnull()), 'industry'] = dhr_industry_mode\n",
        "df.loc[(df['job_title'] == 'Accounting manager') & (df['industry'].isnull()), 'industry'] = am_industry_mode\n",
        "df.loc[(df['job_title'] == 'HR Generalist II') & (df['industry'].isnull()), 'industry'] = hrg_industry_mode\n",
        "df.loc[(df['job_title'] == 'Campaign and Program Manager') & (df['industry'].isnull()), 'industry'] = 'Computing or Tech'\n",
        "df.loc[(df['job_title'] == 'Director') & (df['industry'].isnull()), 'industry'] = dir_industry_mode\n",
        "df.loc[(df['job_title'] == 'Marketing Coordinator') & (df['industry'].isnull()), 'industry'] = mcor_industry_mode\n",
        "df.loc[(df['job_title'] == 'Vendor Manager') & (df['industry'].isnull()), 'industry'] = vem_industry_mode\n",
        "df.loc[(df['job_title'] == 'Real Estate Services Assistant') & (df['industry'].isnull()), 'industry'] = 'Real estate services'\n",
        "df.loc[(df['job_title'] == 'Translator') & (df['industry'].isnull()), 'industry'] = trans_industry_mode\n",
        "df.loc[(df['job_title'] == 'Business Analyst') & (df['industry'].isnull()), 'industry'] = ba_industry_mode\n",
        "df.loc[(df['job_title'] == 'Administrative Assistant') & (df['industry'].isnull()), 'industry'] = aa_industry_mode\n",
        "df.loc[(df['job_title'] == 'Technical specialist') & (df['industry'].isnull()), 'industry'] = ts_industry_mode\n",
        "df.loc[(df['job_title'] == 'Order Management Analyst') & (df['industry'].isnull()), 'industry'] = manag_industry_mode\n",
        "df.loc[(df['job_title'] == 'Auto liability representative 2') & (df['industry'].isnull()), 'industry'] = auto_industry_mode\n",
        "df.loc[(df['job_title'] == 'Inventory Specialist') & (df['industry'].isnull()), 'industry'] = is_industry_mode\n",
        "df.loc[(df['job_title'] == 'Software engineer') & (df['industry'].isnull()), 'industry'] = seng_industry_mode\n",
        "df.loc[(df['job_title'] == 'Government Statistician') & (df['industry'].isnull()), 'industry'] = 'Government'\n",
        "df.loc[(df['job_title'] == 'Associate Director of Customer Service') & (df['industry'].isnull()), 'industry'] = docs_industry_mode\n",
        "df.loc[(df['job_title'] == 'QA manager') & (df['industry'].isnull()), 'industry'] = qam_industry_mode\n",
        "df.loc[(df['job_title'] == 'Account management0') & (df['industry'].isnull()), 'industry'] = amd_industry_mode\n",
        "df.loc[(df['job_title'] == 'Biologist 1') & (df['industry'].isnull()), 'industry'] = bio_industry_mode\n",
        "df.loc[(df['job_title'] == 'Chemist') & (df['industry'].isnull()), 'industry'] = che_industry_mode\n",
        "df.loc[(df['job_title'] == 'Cybersecurity senior risk specialist') & (df['industry'].isnull()), 'industry'] = 'Computing or Tech'\n",
        "df.loc[(df['job_title'] == 'Digital strategy manager') & (df['industry'].isnull()), 'industry'] = dsm_industry_mode\n",
        "df.loc[(df['job_title'] == 'Early childhood teacher') & (df['industry'].isnull()), 'industry'] = ect_industry_mode\n",
        "df.loc[(df['job_title'] == 'Svp') & (df['industry'].isnull()), 'industry'] = svp_industry_mode\n",
        "df.loc[(df['job_title'] == 'supply Planner') & (df['industry'].isnull()), 'industry'] = sp_industry_mode\n",
        "df.loc[(df['job_title'] == 'Digital Marketing Specialist') & (df['industry'].isnull()), 'industry'] = dms_industry_mode\n",
        "df.loc[(df['job_title'] == 'People Operations Manager ') & (df['industry'].isnull()), 'industry'] = pom_industry_mode\n",
        "df.loc[(df['job_title'] == 'Archivist') & (df['industry'].isnull()), 'industry'] = arch_industry_mode\n",
        "df.loc[(df['job_title'] == 'Data Analytics Engineer') & (df['industry'].isnull()), 'industry'] = dan_industry_mode\n",
        "df.loc[(df['job_title'] == 'Contract Administrator') & (df['industry'].isnull()), 'industry'] = cad_industry_mode\n",
        "df.loc[(df['job_title'] == 'Instructor/Operator') & (df['industry'].isnull()), 'industry'] = inst_industry_mode\n",
        "df.loc[(df['job_title'] == 'Technician Automation ') & (df['industry'].isnull()), 'industry'] = 'Computing or Tech'\n",
        "df.loc[(df['job_title'] == 'Associate professor') & (df['industry'].isnull()), 'industry'] = ap_industry_mode\n",
        "df.loc[(df['job_title'] == 'chief executive official') & (df['industry'].isnull()), 'industry'] = ceo_industry_mode\n",
        "df.loc[(df['job_title'] == 'Senior IT Consultant') & (df['industry'].isnull()), 'industry'] = sitc_industry_mode\n",
        "df.loc[(df['job_title'] == 'Legal editor') & (df['industry'].isnull()), 'industry'] = le_industry_mode\n",
        "df.loc[(df['job_title'] == 'Research Scientist') & (df['industry'].isnull()), 'industry'] = res_industry_mode\n",
        "df.loc[(df['job_title'] == 'Office Supervisor') & (df['industry'].isnull()), 'industry'] = offs_industry_mode\n",
        "df.loc[(df['job_title'] == 'Veterinarian ') & (df['industry'].isnull()), 'industry'] = veter_industry_mode\n",
        "df.loc[(df['job_title'] == 'Technical specialist') & (df['industry'].isnull()), 'industry'] = techs_industry_mode\n",
        "df.loc[(df['job_title'] == 'IT Manager') & (df['industry'].isnull()), 'industry'] = itm_industry_mode\n",
        "df.loc[(df['job_title'] == 'Office manager ') & (df['industry'].isnull()), 'industry'] = om_industry_mode\n",
        "df.loc[(df['job_title'] == 'Commissioning Editor ') & (df['industry'].isnull()), 'industry'] = ce_industry_mode\n",
        "df.loc[(df['job_title'] == 'Office Supervisor ') & (df['industry'].isnull()), 'industry'] = offs_industry_mode\n",
        "df.loc[(df['job_title'] == 'Customer Service analyst ') & (df['industry'].isnull()), 'industry'] = csa_industry_mode\n",
        "df.loc[(df['job_title'] == 'Credit Supervisor ') & (df['industry'].isnull()), 'industry'] = cre_industry_mode\n",
        "df.loc[(df['job_title'] == 'Campaign and Program Manager ') & (df['industry'].isnull()), 'industry'] = 'Computing or Tech'\n",
        "df.loc[(df['job_title'] == 'Technical specialist ') & (df['industry'].isnull()), 'industry'] = 'Computing or Tech'\n",
        "df.loc[(df['job_title'] == 'Order Management Analyst ') & (df['industry'].isnull()), 'industry'] = manag_industry_mode\n",
        "df.loc[(df['job_title'] == 'Software engineer ') & (df['industry'].isnull()), 'industry'] = seng_industry_mode\n",
        "df.loc[(df['job_title'] == 'Cybersecurity senior risk specialist ') & (df['industry'].isnull()), 'industry'] = 'Computing or Tech'"
      ],
      "metadata": {
        "id": "c5VyO5vCcF-Y"
      },
      "execution_count": 70,
      "outputs": []
    },
    {
      "cell_type": "code",
      "source": [
        "industry_missing = df['industry'].isnull().sum()\n",
        "print('Jumlah missing value di kolom industry:', industry_missing)"
      ],
      "metadata": {
        "colab": {
          "base_uri": "https://localhost:8080/"
        },
        "id": "5-d51H73yaTa",
        "outputId": "68e5ad6d-f832-4e7b-c1dd-85c67e9c0515"
      },
      "execution_count": 110,
      "outputs": [
        {
          "output_type": "stream",
          "name": "stdout",
          "text": [
            "Jumlah missing value di kolom industry: 0\n"
          ]
        }
      ]
    },
    {
      "cell_type": "markdown",
      "source": [
        "###Missing Value Kolom Gender & Education dengan Imputasi Modus\n",
        "Data kosong yang bersifat kategorikal dan tidak dapat dihitung seperti data numerik, dapat diisi dengan modus. Modus akan memberikan nilai yang paling sering muncul dan sesuai dengan jenis data. Pada kolom education terdapat 214 field kosong dan kolom gender terdapat 167 field kosong."
      ],
      "metadata": {
        "id": "4XTfSkXxBAg9"
      }
    },
    {
      "cell_type": "code",
      "source": [
        "mode_gender = df['gender'].mode()[0]\n",
        "df['gender'].fillna(mode_gender, inplace=True)\n",
        "\n",
        "mode_education = df['education'].mode()[0]\n",
        "df['education'].fillna(mode_education, inplace=True)"
      ],
      "metadata": {
        "id": "mDAyLGye5UoH"
      },
      "execution_count": 72,
      "outputs": []
    },
    {
      "cell_type": "markdown",
      "source": [
        "Kode di atas merupakan pengisian missing value dengan modus untuk kolom gender dan education"
      ],
      "metadata": {
        "id": "kl1kGXdBnZqu"
      }
    },
    {
      "cell_type": "code",
      "source": [
        "missing_gender = df['gender'].isnull().sum()\n",
        "print('Jumlah missing value di kolom gender:', missing_gender)\n",
        "\n",
        "missing_education = df['education'].isnull().sum()\n",
        "print('Jumlah missing value di kolom education:', missing_education)"
      ],
      "metadata": {
        "id": "XR_c5dHO5JcJ",
        "colab": {
          "base_uri": "https://localhost:8080/"
        },
        "outputId": "20a7184c-7a23-4651-a4fe-15981d47df64"
      },
      "execution_count": 73,
      "outputs": [
        {
          "output_type": "stream",
          "name": "stdout",
          "text": [
            "Jumlah missing value di kolom gender: 0\n",
            "Jumlah missing value di kolom education: 0\n"
          ]
        }
      ]
    },
    {
      "cell_type": "markdown",
      "source": [
        "Setelah diisi missing valuenya dengan modus, kolom gender dan education sudah tidak memiliki value kosong lagi."
      ],
      "metadata": {
        "id": "MH79YC4ynfSW"
      }
    },
    {
      "cell_type": "markdown",
      "source": [
        "##Mengubah Currency Rate"
      ],
      "metadata": {
        "id": "OI6d5S6e2agr"
      }
    },
    {
      "cell_type": "markdown",
      "source": [
        "###Melihat data currency"
      ],
      "metadata": {
        "id": "tjIDBu2X2dBE"
      }
    },
    {
      "cell_type": "code",
      "source": [
        "# Menampilkan kolom data\n",
        "print(df.salary)\n",
        "print(df.currency)\n",
        "print(df.other_currency)"
      ],
      "metadata": {
        "id": "tSZpe1PC2Ige",
        "colab": {
          "base_uri": "https://localhost:8080/"
        },
        "outputId": "a6bb4dcf-79c7-437e-d582-0febcb2dd476"
      },
      "execution_count": 74,
      "outputs": [
        {
          "output_type": "stream",
          "name": "stdout",
          "text": [
            "0         55000\n",
            "1         54600\n",
            "2         34000\n",
            "3         62000\n",
            "4         60000\n",
            "          ...  \n",
            "27941    190000\n",
            "27942     55000\n",
            "27943     52416\n",
            "27944     36000\n",
            "27945     60000\n",
            "Name: salary, Length: 27946, dtype: int64\n",
            "0        USD\n",
            "1        GBP\n",
            "2        USD\n",
            "3        USD\n",
            "4        USD\n",
            "        ... \n",
            "27941    USD\n",
            "27942    USD\n",
            "27943    USD\n",
            "27944    USD\n",
            "27945    USD\n",
            "Name: currency, Length: 27946, dtype: object\n",
            "0        NaN\n",
            "1        NaN\n",
            "2        NaN\n",
            "3        NaN\n",
            "4        NaN\n",
            "        ... \n",
            "27941    NaN\n",
            "27942    NaN\n",
            "27943    NaN\n",
            "27944    NaN\n",
            "27945    NaN\n",
            "Name: other_currency, Length: 27946, dtype: object\n"
          ]
        }
      ]
    },
    {
      "cell_type": "code",
      "source": [
        "print(df.loc[434, 'currency'])"
      ],
      "metadata": {
        "id": "Osc3bzym2170",
        "colab": {
          "base_uri": "https://localhost:8080/"
        },
        "outputId": "18960dd7-cd79-47e4-b83b-b7fbc9552db0"
      },
      "execution_count": 75,
      "outputs": [
        {
          "output_type": "stream",
          "name": "stdout",
          "text": [
            "Other\n"
          ]
        }
      ]
    },
    {
      "cell_type": "markdown",
      "source": [
        "Dapat dilihat bahwa data dengan **index 434** memiliki data currency **'Other'**. Maka dari itu, data currencynya perlu diambil dari kolom **other_currency**."
      ],
      "metadata": {
        "id": "ZBIiURQi23gc"
      }
    },
    {
      "cell_type": "markdown",
      "source": [
        "###Menggabungkan kolom curreny dengan other_curreny"
      ],
      "metadata": {
        "id": "MdG2thLY29fR"
      }
    },
    {
      "cell_type": "code",
      "source": [
        "df['new_currency'] = df['currency']\n",
        "df['new_currency'] = df['new_currency'].where(df['new_currency'] != 'Other', df['other_currency'])\n",
        "print(df['new_currency'])"
      ],
      "metadata": {
        "id": "w4fD3jv025xn",
        "colab": {
          "base_uri": "https://localhost:8080/"
        },
        "outputId": "92dccdf6-fb1b-4ae9-a077-c9a3ed3069c6"
      },
      "execution_count": 76,
      "outputs": [
        {
          "output_type": "stream",
          "name": "stdout",
          "text": [
            "0        USD\n",
            "1        GBP\n",
            "2        USD\n",
            "3        USD\n",
            "4        USD\n",
            "        ... \n",
            "27941    USD\n",
            "27942    USD\n",
            "27943    USD\n",
            "27944    USD\n",
            "27945    USD\n",
            "Name: new_currency, Length: 27946, dtype: object\n"
          ]
        }
      ]
    },
    {
      "cell_type": "markdown",
      "source": [
        "**Penjelasan Kode**\n",
        "\n",
        "Nilai pada kolom **new_currency** yang bernilai **'Other'** akan **diganti** dengan nilai dari kolom **other_currency**. Jika nilai tidak bernilai other, maka data di new_currency akan tetap **sama**."
      ],
      "metadata": {
        "id": "gI_845Hx3T4S"
      }
    },
    {
      "cell_type": "code",
      "source": [
        "print(df.loc[434, 'new_currency'])"
      ],
      "metadata": {
        "id": "4M7z5jSx3WdH",
        "colab": {
          "base_uri": "https://localhost:8080/"
        },
        "outputId": "3801b168-e520-43e2-f5e4-9f33292cbbf4"
      },
      "execution_count": 77,
      "outputs": [
        {
          "output_type": "stream",
          "name": "stdout",
          "text": [
            "INR\n"
          ]
        }
      ]
    },
    {
      "cell_type": "markdown",
      "source": [
        "Setelah kolom currency dan other_currency digabung, dapat dilihat data dengan index 434 adalah INR"
      ],
      "metadata": {
        "id": "Mnn5YM1E3fPo"
      }
    },
    {
      "cell_type": "markdown",
      "source": [
        "###Melihat jenis currency"
      ],
      "metadata": {
        "id": "smfvAT4r3mS2"
      }
    },
    {
      "cell_type": "code",
      "source": [
        "currency_types = df['new_currency'].unique()\n",
        "currency_count = df['new_currency'].value_counts()\n",
        "print(currency_types)\n",
        "print(currency_count)"
      ],
      "metadata": {
        "id": "ai5pyns63pU0",
        "colab": {
          "base_uri": "https://localhost:8080/"
        },
        "outputId": "8ae1ed8c-e6f5-4e96-ccef-0995b1caebaf"
      },
      "execution_count": 78,
      "outputs": [
        {
          "output_type": "stream",
          "name": "stdout",
          "text": [
            "['USD' 'GBP' 'CAD' 'EUR' 'AUD/NZD' 'INR' 'Peso Argentino' 'CHF' 'MYR'\n",
            " 'ZAR' 'SEK' 'HKD' 'NOK' 'BR$' 'Dkk' 'TTD' 'Indian rupees' 'BRL (R$)'\n",
            " 'Mexican pesos' 'CZK' 'DKK' 'Bdt' 'American Dollars' 'Php'\n",
            " 'PLN (Polish zloty)' 'czech crowns' 'TRY' 'Norwegian kroner (NOK)' 'CNY'\n",
            " 'ILS/NIS' nan 'US Dollar' 'BRL' 'NIS (new Israeli shekel)'\n",
            " 'RMB (chinese yuan)' 'AUD' 'JPY' 'Taiwanese dollars' 'Philippine Peso'\n",
            " 'SGD' 'KRW (Korean Won)' 'Czk' 'THB' 'IDR ' 'Sgd' 'Nok' 'NZD'\n",
            " 'ILS (Shekel)' 'DKK ' 'China RMB' 'AUD Australian ' 'LKR' 'Polish Złoty'\n",
            " 'Philippine peso (PHP)' 'Australian Dollars ' 'PHP' 'Equity' 'ARS'\n",
            " 'Argentinian peso (ARS)' 'Israeli Shekels' 'ILS' 'MXN'\n",
            " 'PhP (Philippine Peso)' 'PLN' 'KRW' 'SAR' 'RM' 'IDR' 'Argentine Peso'\n",
            " 'Philippine Pesos' 'Ils' 'INR (Indian Rupee)' 'NTD' 'Danish Kroner'\n",
            " 'Korean Won ' 'dkk' 'Euro' 'SGD ' 'Mexican Pesos' 'THAI  BAHT'\n",
            " 'Thai Baht ' 'croatian kuna' 'PLN (Zwoty)' 'Rupees' 'Singapore Dollara'\n",
            " 'NGN' 'COP']\n",
            "USD                23296\n",
            "CAD                 1666\n",
            "GBP                 1587\n",
            "EUR                  638\n",
            "AUD/NZD              500\n",
            "                   ...  \n",
            "China RMB              1\n",
            "AUD Australian         1\n",
            "LKR                    1\n",
            "Polish Złoty           1\n",
            "COP                    1\n",
            "Name: new_currency, Length: 86, dtype: int64\n"
          ]
        }
      ]
    },
    {
      "cell_type": "markdown",
      "source": [
        "Dapat dilihat bahwa data currency pada kolom new_currency masih kotor dan masih banyak duplikasi. Maka dari itu, data tersebut perlu dibersihkan dan diseragamkan."
      ],
      "metadata": {
        "id": "9yeKFXUE3r07"
      }
    },
    {
      "cell_type": "code",
      "source": [
        "is_nan = df['new_currency'].isna().sum()\n",
        "print(is_nan)\n",
        "\n",
        "equity_count = df['new_currency'].value_counts()['Equity']\n",
        "print(\"Jumlah nilai 'equity':\", equity_count)"
      ],
      "metadata": {
        "id": "njZ_83nht8Jh",
        "colab": {
          "base_uri": "https://localhost:8080/"
        },
        "outputId": "2d3c09b9-c711-47d8-d7fe-5f7be00fa5bf"
      },
      "execution_count": 79,
      "outputs": [
        {
          "output_type": "stream",
          "name": "stdout",
          "text": [
            "4\n",
            "Jumlah nilai 'equity': 1\n"
          ]
        }
      ]
    },
    {
      "cell_type": "markdown",
      "source": [
        "Terdapat pula data bernilai nan dan equity (saham). Data tersebut harus dihapus. "
      ],
      "metadata": {
        "id": "_RyFjqu705xI"
      }
    },
    {
      "cell_type": "markdown",
      "source": [
        "###Cleaning Currency"
      ],
      "metadata": {
        "id": "5Vfyuxzb30hy"
      }
    },
    {
      "cell_type": "markdown",
      "source": [
        "Mengubah dan menyeragamkan currency"
      ],
      "metadata": {
        "id": "fwi_YkWm1IEF"
      }
    },
    {
      "cell_type": "code",
      "source": [
        "df['new_currency'] = df['new_currency'].str.upper().replace(['AUD/NZD', 'NZD', 'AUD Australian ', 'Australian Dollars ', 'AUSTRALIAN DOLLARS ', 'AUD AUSTRALIAN', 'AUD AUSTRALIAN '], 'AUD')\n",
        "df['new_currency'] = df['new_currency'].str.upper().replace(['Peso Argentino', 'Argentinian peso (ARS)', 'Argentine Peso', 'ARGENTINIAN PESO (ARS)', 'ARGENTINE PESO', 'PESO ARGENTINO'], 'ARS')\n",
        "df['new_currency'] = df['new_currency'].str.upper().replace(['BR$', 'BRL (R$)'], 'BRL')\n",
        "df['new_currency'] = df['new_currency'].str.upper().replace(['Dkk', 'DKK ', 'Danish Kroner', 'dkk', 'DANISH KRONER'], 'DKK')\n",
        "df['new_currency'] = df['new_currency'].str.upper().replace(['Indian rupees', 'INR (Indian Rupee)', 'Rupees', 'INDIAN RUPEES', 'INR (INDIAN RUPEE)', 'RUPEES'], 'INR')\n",
        "df['new_currency'] = df['new_currency'].str.upper().replace(['Mexican pesos', 'Mexican Pesos', 'MEXICAN PESOS'], 'MXN')\n",
        "df['new_currency'] = df['new_currency'].str.replace('Bdt', 'BDT')\n",
        "df['new_currency'] = df['new_currency'].str.upper().replace(['American Dollars', 'US Dollar', 'AMERICAN DOLLARS', 'US DOLLAR'], 'USD')\n",
        "df['new_currency'] = df['new_currency'].str.upper().replace(['Php', 'Philippine Peso', 'Philippine peso (PHP)', 'PhP (Philippine Peso)', 'Philippine Pesos', 'PHILIPPINE PESO', 'PHP (PHILIPPINE PESO)', 'PHILIPPINE PESOS', 'PHILIPPINE PESO (PHP)'], 'PHP')\n",
        "df['new_currency'] = df['new_currency'].str.upper().replace(['PLN (Polish zloty)', 'Polish Złoty', 'PLN (Zwoty)', 'PLN (POLISH ZLOTY)', 'PLN (ZWOTY)', 'POLISH ZŁOTY'], 'PLN')\n",
        "df['new_currency'] = df['new_currency'].str.upper().replace(['czech crowns', 'Czk', 'CZECH CROWNS'], 'CZK')\n",
        "df['new_currency'] = df['new_currency'].str.upper().replace(['Norwegian kroner (NOK)', 'Nok', 'NORWEGIAN KRONER (NOK)'], 'NOK')\n",
        "df['new_currency'] = df['new_currency'].str.upper().replace(['ILS/NIS', 'NIS (new Israeli shekel)', 'ILS (Shekel)', 'Israeli Shekels', 'Ils', 'NIS (NEW ISRAELI SHEKEL)', 'ISRAELI SHEKELS', 'ILS (SHEKEL)'], 'NIS')\n",
        "df['new_currency'] = df['new_currency'].str.upper().replace(['RMB (chinese yuan)', 'RMB (CHINESE YUAN)'], 'RMB')\n",
        "df['new_currency'] = df['new_currency'].str.upper().replace(['Taiwanese dollars', 'TAIWANESE DOLLARS'], 'TWD')\n",
        "df['new_currency'] = df['new_currency'].str.upper().replace(['KRW (Korean Won)', 'Korean Won ', 'KOREAN WON ', 'KRW (KOREAN WON)'], 'KRW')\n",
        "df['new_currency'] = df['new_currency'].str.replace('IDR ', 'IDR')\n",
        "df['new_currency'] = df['new_currency'].str.upper().replace(['Sgd', 'SGD ', 'Singapore Dollara', 'SINGAPORE DOLLARA'], 'SGD')\n",
        "df['new_currency'] = df['new_currency'].str.upper().replace(['China RMB', 'CHINA RMB'], 'CNY')\n",
        "df['new_currency'] = df['new_currency'].str.upper().replace(['Euro', 'EURO'], 'EUR')\n",
        "df['new_currency'] = df['new_currency'].str.upper().replace(['THAI  BAHT', 'Thai Baht ', 'THAI BAHT '], 'THB')\n",
        "df['new_currency'] = df['new_currency'].str.upper().replace(['croatian kuna', 'CROATIAN KUNA'], 'THB')"
      ],
      "metadata": {
        "id": "JobZ-nKf34aF"
      },
      "execution_count": 80,
      "outputs": []
    },
    {
      "cell_type": "markdown",
      "source": [
        "Menghapus nilai NaN dan equity"
      ],
      "metadata": {
        "id": "bzwUMlFM1OxD"
      }
    },
    {
      "cell_type": "code",
      "source": [
        "# Menemukan letak nilai NaN dan Equity pada kolom 'new_currency'\n",
        "nan_index = df[df['new_currency'].isna()].index\n",
        "equity_index = df.loc[df['new_currency'] == 'Equity'].index\n",
        "\n",
        "# Cetak indeks\n",
        "print(\"Letak nilai Nan pada indeks : \", nan_index)\n",
        "print(\"Letak nilai equity pada indeks : \", equity_index)"
      ],
      "metadata": {
        "id": "Dxt58czCykNi",
        "colab": {
          "base_uri": "https://localhost:8080/"
        },
        "outputId": "048daa77-5926-41e1-ed49-2acbbca3cb2a"
      },
      "execution_count": 81,
      "outputs": [
        {
          "output_type": "stream",
          "name": "stdout",
          "text": [
            "Letak nilai Nan pada indeks :  Int64Index([9344, 18843, 18882, 18904], dtype='int64')\n",
            "Letak nilai equity pada indeks :  Int64Index([], dtype='int64')\n"
          ]
        }
      ]
    },
    {
      "cell_type": "code",
      "source": [
        "df = df.drop([9344, 18843, 18882, 18904, 14915])"
      ],
      "metadata": {
        "id": "rNB4wV9l2wIe"
      },
      "execution_count": 82,
      "outputs": []
    },
    {
      "cell_type": "markdown",
      "source": [
        "Mengecek currency yang sudah dicleaning"
      ],
      "metadata": {
        "id": "eluh0Ocv24V7"
      }
    },
    {
      "cell_type": "code",
      "source": [
        "currency_types = df['new_currency'].unique()\n",
        "currency_count = df['new_currency'].value_counts()\n",
        "print(currency_types)\n",
        "print(currency_count)"
      ],
      "metadata": {
        "id": "iKqws1qY37q_",
        "colab": {
          "base_uri": "https://localhost:8080/"
        },
        "outputId": "4dc51221-6a47-444d-bd9a-38b937bf935c"
      },
      "execution_count": 83,
      "outputs": [
        {
          "output_type": "stream",
          "name": "stdout",
          "text": [
            "['USD' 'GBP' 'CAD' 'EUR' 'AUD' 'INR' 'ARS' 'CHF' 'MYR' 'ZAR' 'SEK' 'HKD'\n",
            " 'NOK' 'BRL' 'DKK' 'TTD' 'MXN' 'CZK' 'BDT' 'PHP' 'PLN' 'TRY' 'CNY' 'NIS'\n",
            " 'RMB' 'JPY' 'TWD' 'SGD' 'KRW' 'THB' 'IDR' 'LKR' 'ILS' 'SAR' 'RM' 'NTD'\n",
            " 'NGN' 'COP']\n",
            "USD    23298\n",
            "CAD     1666\n",
            "GBP     1587\n",
            "EUR      639\n",
            "AUD      507\n",
            "CHF       38\n",
            "SEK       38\n",
            "JPY       23\n",
            "ZAR       15\n",
            "INR       13\n",
            "SGD       12\n",
            "DKK       12\n",
            "NOK       10\n",
            "BRL        8\n",
            "PLN        8\n",
            "MYR        8\n",
            "CZK        6\n",
            "PHP        6\n",
            "ARS        5\n",
            "THB        5\n",
            "KRW        4\n",
            "NIS        4\n",
            "HKD        4\n",
            "MXN        4\n",
            "ILS        3\n",
            "CNY        3\n",
            "TRY        2\n",
            "NTD        2\n",
            "IDR        2\n",
            "NGN        1\n",
            "RM         1\n",
            "SAR        1\n",
            "BDT        1\n",
            "LKR        1\n",
            "TWD        1\n",
            "RMB        1\n",
            "TTD        1\n",
            "COP        1\n",
            "Name: new_currency, dtype: int64\n"
          ]
        }
      ]
    },
    {
      "cell_type": "markdown",
      "source": [
        "Setelah dibersihkan, data currency jadi lebih rapi dan seragam."
      ],
      "metadata": {
        "id": "kIa2wc__3_Q9"
      }
    },
    {
      "cell_type": "markdown",
      "source": [
        "###Mengubah data salary menjadi USD"
      ],
      "metadata": {
        "id": "Rl2bZHf_4FST"
      }
    },
    {
      "cell_type": "code",
      "source": [
        "def convert_to_usd(salary, new_currency):\n",
        "    exchange_rates = {'USD': 1, 'GBP': 0.81, 'CAD': 1.37, 'EUR': 0.85, 'AUD': 1.48,\n",
        "                  'INR': 82.50, 'ARS': 205.3, 'CHF': 0.9, 'MYR': 4.43, 'ZAR': 18.18, \n",
        "                  'SEK': 10.28, 'HKD': 7.84, 'NOK': 10.43, 'BRL': 5.24, 'DKK': 6.84,  \n",
        "                  'TTD': 6.80, 'MXN': 18.57, 'CZK': 21.78, 'BDT': 107.00, 'PHP': 54.50, \n",
        "                  'PLN': 4.30, 'TRY': 19.05, 'CNY': 6.88, 'NIS': 3.62, 'RMB': 6.88, \n",
        "                  'JPY': 130.89, 'TWD': 30.37, 'SGD': 1.33, 'KRW': 1294.25, 'THB': 34.20, \n",
        "                  'IDR': 15185.05, 'LKR': 322.52, 'ILS': 3.62, 'SAR': 3.76, 'RM': 4.44,\n",
        "                  'NTD':30.38, 'NGN':460.45, 'COP': 4773.00}\n",
        "    if new_currency in exchange_rates:\n",
        "        return salary / exchange_rates[new_currency]\n",
        "    else:\n",
        "        return None\n",
        "\n",
        "df['usd_salary'] = df.apply(lambda row: convert_to_usd(row['salary'], row['new_currency']), axis=1)"
      ],
      "metadata": {
        "id": "FtPBu9cI4A7m"
      },
      "execution_count": 84,
      "outputs": []
    },
    {
      "cell_type": "markdown",
      "source": [],
      "metadata": {
        "id": "BjHu7kQn4MVJ"
      }
    },
    {
      "cell_type": "markdown",
      "source": [
        "**Penjelasan Kode**\n",
        "\n",
        "exchange_rates merupakan dictionary yang berisi nilai tukar untuk setiap currency yang ingin diubah. Dictionary ini harus memiliki format currency tujuan sebagai kunci dan nilai tukar sebagai nilai. Saya menetapkan USD sebagai currency tujuan. Di sini saya tidak menggunakan library untuk convert currency karena error, banyak mata uang yang tidak terdeteksi.\n",
        "\n",
        "Fungsi convert_to_usd ini bertujuan untuk mengonversi nilai gaji dalam currency yang berbeda menjadi nilai gaji dalam currency tujuan. Fungsi ini akan menerima dua argumen: nilai gaji dan currency. Fungsi akan mengembalikan nilai gaji dalam currency tujuan. Fungsi juga berisi exchange_rates yang sudah dibuat sebelumnya. Fungsi convert_to_usd() akan mengonversi nilai gaji ke USD. Fungsi akan memeriksa apakah currency yang diberikan ada dalam dictionary nilai tukar. Jika ya, maka fungsi akan mengembalikan nilai gaji yang sudah dikonversi. Jika tidak, maka fungsi akan mengembalikan None.\n",
        "\n",
        "Jika sudah, kolom baru 'usd_salary' akan ditambahkan pada dataframe. Kolom baru ini akan diisi dengan nilai gaji dalam USD yang dihitung dengan menggunakan fungsi convert_to_usd() pada setiap baris dataframe."
      ],
      "metadata": {
        "id": "vhAFJN0U4Mbw"
      }
    },
    {
      "cell_type": "markdown",
      "source": [
        "Mengecek data salary sebelum dikonversi menjadi USD"
      ],
      "metadata": {
        "id": "WDtHsuNn3IDV"
      }
    },
    {
      "cell_type": "code",
      "source": [
        "salary = df['salary']\n",
        "print(salary)"
      ],
      "metadata": {
        "id": "f7GkYzwa4K83",
        "colab": {
          "base_uri": "https://localhost:8080/"
        },
        "outputId": "f540f872-1496-4e88-9ce1-a6ce00cd6d08"
      },
      "execution_count": 85,
      "outputs": [
        {
          "output_type": "stream",
          "name": "stdout",
          "text": [
            "0         55000\n",
            "1         54600\n",
            "2         34000\n",
            "3         62000\n",
            "4         60000\n",
            "          ...  \n",
            "27941    190000\n",
            "27942     55000\n",
            "27943     52416\n",
            "27944     36000\n",
            "27945     60000\n",
            "Name: salary, Length: 27941, dtype: int64\n"
          ]
        }
      ]
    },
    {
      "cell_type": "markdown",
      "source": [
        "Mengecek data salary setelah dikonversi menjadi USD"
      ],
      "metadata": {
        "id": "_j7ygz3C3M8o"
      }
    },
    {
      "cell_type": "code",
      "source": [
        "df['usd_salary'] = df['usd_salary'].astype(int)\n",
        "usd_salary = df['usd_salary']\n",
        "print(usd_salary)"
      ],
      "metadata": {
        "id": "RrrZSApy4UdM",
        "colab": {
          "base_uri": "https://localhost:8080/"
        },
        "outputId": "730bb20c-e824-4999-81e5-c39da1bccb42"
      },
      "execution_count": 86,
      "outputs": [
        {
          "output_type": "stream",
          "name": "stdout",
          "text": [
            "0         55000\n",
            "1         67407\n",
            "2         34000\n",
            "3         62000\n",
            "4         60000\n",
            "          ...  \n",
            "27941    190000\n",
            "27942     55000\n",
            "27943     52416\n",
            "27944     36000\n",
            "27945     60000\n",
            "Name: usd_salary, Length: 27941, dtype: int64\n"
          ]
        }
      ]
    },
    {
      "cell_type": "code",
      "source": [
        "# Menyimpan DataFrame dengan penambahan kolom usd_salary yang baru ke file Excel\n",
        "df.to_excel('salary_survey_convert.xlsx', index=False)\n",
        "df.head()"
      ],
      "metadata": {
        "colab": {
          "base_uri": "https://localhost:8080/",
          "height": 444
        },
        "id": "ZzUqmQ76Th-y",
        "outputId": "1809c24b-600e-4927-ef50-af667ebe93f2"
      },
      "execution_count": 90,
      "outputs": [
        {
          "output_type": "execute_result",
          "data": {
            "text/plain": [
              "                Timestamp    age                       industry  \\\n",
              "0 2021-04-27 11:02:09.743  25-34   Education (Higher Education)   \n",
              "1 2021-04-27 11:02:21.562  25-34              Computing or Tech   \n",
              "2 2021-04-27 11:02:38.125  25-34  Accounting, Banking & Finance   \n",
              "3 2021-04-27 11:02:40.643  25-34                     Nonprofits   \n",
              "4 2021-04-27 11:02:41.793  25-34  Accounting, Banking & Finance   \n",
              "\n",
              "                                  job_title job_title_additional_context  \\\n",
              "0        Research and Instruction Librarian                          NaN   \n",
              "1  Change & Internal Communications Manager                          NaN   \n",
              "2                      Marketing Specialist                          NaN   \n",
              "3                           Program Manager                          NaN   \n",
              "4                        Accounting Manager                          NaN   \n",
              "\n",
              "   salary  additional_salary currency other_currency  \\\n",
              "0   55000                0.0      USD            NaN   \n",
              "1   54600             4000.0      GBP            NaN   \n",
              "2   34000                NaN      USD            NaN   \n",
              "3   62000             3000.0      USD            NaN   \n",
              "4   60000             7000.0      USD            NaN   \n",
              "\n",
              "  income_additional_context         country      us_country         city  \\\n",
              "0                       NaN   United States   Massachusetts       Boston   \n",
              "1                       NaN  United Kingdom             NaN    Cambridge   \n",
              "2                       NaN              US       Tennessee  Chattanooga   \n",
              "3                       NaN             USA       Wisconsin    Milwaukee   \n",
              "4                       NaN              US  South Carolina   Greenville   \n",
              "\n",
              "  work_experience_overall work_experience_professional        education  \\\n",
              "0               5-7 years                    5-7 years  Master's degree   \n",
              "1            8 - 10 years                    5-7 years   College degree   \n",
              "2             2 - 4 years                  2 - 4 years   College degree   \n",
              "3            8 - 10 years                    5-7 years   College degree   \n",
              "4            8 - 10 years                    5-7 years   College degree   \n",
              "\n",
              "       gender   race new_currency  usd_salary  \n",
              "0       Woman  White          USD       55000  \n",
              "1  Non-binary  White          GBP       67407  \n",
              "2       Woman  White          USD       34000  \n",
              "3       Woman  White          USD       62000  \n",
              "4       Woman  White          USD       60000  "
            ],
            "text/html": [
              "\n",
              "  <div id=\"df-9000dd3d-c738-46d0-970b-4cd5b315e26a\">\n",
              "    <div class=\"colab-df-container\">\n",
              "      <div>\n",
              "<style scoped>\n",
              "    .dataframe tbody tr th:only-of-type {\n",
              "        vertical-align: middle;\n",
              "    }\n",
              "\n",
              "    .dataframe tbody tr th {\n",
              "        vertical-align: top;\n",
              "    }\n",
              "\n",
              "    .dataframe thead th {\n",
              "        text-align: right;\n",
              "    }\n",
              "</style>\n",
              "<table border=\"1\" class=\"dataframe\">\n",
              "  <thead>\n",
              "    <tr style=\"text-align: right;\">\n",
              "      <th></th>\n",
              "      <th>Timestamp</th>\n",
              "      <th>age</th>\n",
              "      <th>industry</th>\n",
              "      <th>job_title</th>\n",
              "      <th>job_title_additional_context</th>\n",
              "      <th>salary</th>\n",
              "      <th>additional_salary</th>\n",
              "      <th>currency</th>\n",
              "      <th>other_currency</th>\n",
              "      <th>income_additional_context</th>\n",
              "      <th>country</th>\n",
              "      <th>us_country</th>\n",
              "      <th>city</th>\n",
              "      <th>work_experience_overall</th>\n",
              "      <th>work_experience_professional</th>\n",
              "      <th>education</th>\n",
              "      <th>gender</th>\n",
              "      <th>race</th>\n",
              "      <th>new_currency</th>\n",
              "      <th>usd_salary</th>\n",
              "    </tr>\n",
              "  </thead>\n",
              "  <tbody>\n",
              "    <tr>\n",
              "      <th>0</th>\n",
              "      <td>2021-04-27 11:02:09.743</td>\n",
              "      <td>25-34</td>\n",
              "      <td>Education (Higher Education)</td>\n",
              "      <td>Research and Instruction Librarian</td>\n",
              "      <td>NaN</td>\n",
              "      <td>55000</td>\n",
              "      <td>0.0</td>\n",
              "      <td>USD</td>\n",
              "      <td>NaN</td>\n",
              "      <td>NaN</td>\n",
              "      <td>United States</td>\n",
              "      <td>Massachusetts</td>\n",
              "      <td>Boston</td>\n",
              "      <td>5-7 years</td>\n",
              "      <td>5-7 years</td>\n",
              "      <td>Master's degree</td>\n",
              "      <td>Woman</td>\n",
              "      <td>White</td>\n",
              "      <td>USD</td>\n",
              "      <td>55000</td>\n",
              "    </tr>\n",
              "    <tr>\n",
              "      <th>1</th>\n",
              "      <td>2021-04-27 11:02:21.562</td>\n",
              "      <td>25-34</td>\n",
              "      <td>Computing or Tech</td>\n",
              "      <td>Change &amp; Internal Communications Manager</td>\n",
              "      <td>NaN</td>\n",
              "      <td>54600</td>\n",
              "      <td>4000.0</td>\n",
              "      <td>GBP</td>\n",
              "      <td>NaN</td>\n",
              "      <td>NaN</td>\n",
              "      <td>United Kingdom</td>\n",
              "      <td>NaN</td>\n",
              "      <td>Cambridge</td>\n",
              "      <td>8 - 10 years</td>\n",
              "      <td>5-7 years</td>\n",
              "      <td>College degree</td>\n",
              "      <td>Non-binary</td>\n",
              "      <td>White</td>\n",
              "      <td>GBP</td>\n",
              "      <td>67407</td>\n",
              "    </tr>\n",
              "    <tr>\n",
              "      <th>2</th>\n",
              "      <td>2021-04-27 11:02:38.125</td>\n",
              "      <td>25-34</td>\n",
              "      <td>Accounting, Banking &amp; Finance</td>\n",
              "      <td>Marketing Specialist</td>\n",
              "      <td>NaN</td>\n",
              "      <td>34000</td>\n",
              "      <td>NaN</td>\n",
              "      <td>USD</td>\n",
              "      <td>NaN</td>\n",
              "      <td>NaN</td>\n",
              "      <td>US</td>\n",
              "      <td>Tennessee</td>\n",
              "      <td>Chattanooga</td>\n",
              "      <td>2 - 4 years</td>\n",
              "      <td>2 - 4 years</td>\n",
              "      <td>College degree</td>\n",
              "      <td>Woman</td>\n",
              "      <td>White</td>\n",
              "      <td>USD</td>\n",
              "      <td>34000</td>\n",
              "    </tr>\n",
              "    <tr>\n",
              "      <th>3</th>\n",
              "      <td>2021-04-27 11:02:40.643</td>\n",
              "      <td>25-34</td>\n",
              "      <td>Nonprofits</td>\n",
              "      <td>Program Manager</td>\n",
              "      <td>NaN</td>\n",
              "      <td>62000</td>\n",
              "      <td>3000.0</td>\n",
              "      <td>USD</td>\n",
              "      <td>NaN</td>\n",
              "      <td>NaN</td>\n",
              "      <td>USA</td>\n",
              "      <td>Wisconsin</td>\n",
              "      <td>Milwaukee</td>\n",
              "      <td>8 - 10 years</td>\n",
              "      <td>5-7 years</td>\n",
              "      <td>College degree</td>\n",
              "      <td>Woman</td>\n",
              "      <td>White</td>\n",
              "      <td>USD</td>\n",
              "      <td>62000</td>\n",
              "    </tr>\n",
              "    <tr>\n",
              "      <th>4</th>\n",
              "      <td>2021-04-27 11:02:41.793</td>\n",
              "      <td>25-34</td>\n",
              "      <td>Accounting, Banking &amp; Finance</td>\n",
              "      <td>Accounting Manager</td>\n",
              "      <td>NaN</td>\n",
              "      <td>60000</td>\n",
              "      <td>7000.0</td>\n",
              "      <td>USD</td>\n",
              "      <td>NaN</td>\n",
              "      <td>NaN</td>\n",
              "      <td>US</td>\n",
              "      <td>South Carolina</td>\n",
              "      <td>Greenville</td>\n",
              "      <td>8 - 10 years</td>\n",
              "      <td>5-7 years</td>\n",
              "      <td>College degree</td>\n",
              "      <td>Woman</td>\n",
              "      <td>White</td>\n",
              "      <td>USD</td>\n",
              "      <td>60000</td>\n",
              "    </tr>\n",
              "  </tbody>\n",
              "</table>\n",
              "</div>\n",
              "      <button class=\"colab-df-convert\" onclick=\"convertToInteractive('df-9000dd3d-c738-46d0-970b-4cd5b315e26a')\"\n",
              "              title=\"Convert this dataframe to an interactive table.\"\n",
              "              style=\"display:none;\">\n",
              "        \n",
              "  <svg xmlns=\"http://www.w3.org/2000/svg\" height=\"24px\"viewBox=\"0 0 24 24\"\n",
              "       width=\"24px\">\n",
              "    <path d=\"M0 0h24v24H0V0z\" fill=\"none\"/>\n",
              "    <path d=\"M18.56 5.44l.94 2.06.94-2.06 2.06-.94-2.06-.94-.94-2.06-.94 2.06-2.06.94zm-11 1L8.5 8.5l.94-2.06 2.06-.94-2.06-.94L8.5 2.5l-.94 2.06-2.06.94zm10 10l.94 2.06.94-2.06 2.06-.94-2.06-.94-.94-2.06-.94 2.06-2.06.94z\"/><path d=\"M17.41 7.96l-1.37-1.37c-.4-.4-.92-.59-1.43-.59-.52 0-1.04.2-1.43.59L10.3 9.45l-7.72 7.72c-.78.78-.78 2.05 0 2.83L4 21.41c.39.39.9.59 1.41.59.51 0 1.02-.2 1.41-.59l7.78-7.78 2.81-2.81c.8-.78.8-2.07 0-2.86zM5.41 20L4 18.59l7.72-7.72 1.47 1.35L5.41 20z\"/>\n",
              "  </svg>\n",
              "      </button>\n",
              "      \n",
              "  <style>\n",
              "    .colab-df-container {\n",
              "      display:flex;\n",
              "      flex-wrap:wrap;\n",
              "      gap: 12px;\n",
              "    }\n",
              "\n",
              "    .colab-df-convert {\n",
              "      background-color: #E8F0FE;\n",
              "      border: none;\n",
              "      border-radius: 50%;\n",
              "      cursor: pointer;\n",
              "      display: none;\n",
              "      fill: #1967D2;\n",
              "      height: 32px;\n",
              "      padding: 0 0 0 0;\n",
              "      width: 32px;\n",
              "    }\n",
              "\n",
              "    .colab-df-convert:hover {\n",
              "      background-color: #E2EBFA;\n",
              "      box-shadow: 0px 1px 2px rgba(60, 64, 67, 0.3), 0px 1px 3px 1px rgba(60, 64, 67, 0.15);\n",
              "      fill: #174EA6;\n",
              "    }\n",
              "\n",
              "    [theme=dark] .colab-df-convert {\n",
              "      background-color: #3B4455;\n",
              "      fill: #D2E3FC;\n",
              "    }\n",
              "\n",
              "    [theme=dark] .colab-df-convert:hover {\n",
              "      background-color: #434B5C;\n",
              "      box-shadow: 0px 1px 3px 1px rgba(0, 0, 0, 0.15);\n",
              "      filter: drop-shadow(0px 1px 2px rgba(0, 0, 0, 0.3));\n",
              "      fill: #FFFFFF;\n",
              "    }\n",
              "  </style>\n",
              "\n",
              "      <script>\n",
              "        const buttonEl =\n",
              "          document.querySelector('#df-9000dd3d-c738-46d0-970b-4cd5b315e26a button.colab-df-convert');\n",
              "        buttonEl.style.display =\n",
              "          google.colab.kernel.accessAllowed ? 'block' : 'none';\n",
              "\n",
              "        async function convertToInteractive(key) {\n",
              "          const element = document.querySelector('#df-9000dd3d-c738-46d0-970b-4cd5b315e26a');\n",
              "          const dataTable =\n",
              "            await google.colab.kernel.invokeFunction('convertToInteractive',\n",
              "                                                     [key], {});\n",
              "          if (!dataTable) return;\n",
              "\n",
              "          const docLinkHtml = 'Like what you see? Visit the ' +\n",
              "            '<a target=\"_blank\" href=https://colab.research.google.com/notebooks/data_table.ipynb>data table notebook</a>'\n",
              "            + ' to learn more about interactive tables.';\n",
              "          element.innerHTML = '';\n",
              "          dataTable['output_type'] = 'display_data';\n",
              "          await google.colab.output.renderOutput(dataTable, element);\n",
              "          const docLink = document.createElement('div');\n",
              "          docLink.innerHTML = docLinkHtml;\n",
              "          element.appendChild(docLink);\n",
              "        }\n",
              "      </script>\n",
              "    </div>\n",
              "  </div>\n",
              "  "
            ]
          },
          "metadata": {},
          "execution_count": 90
        }
      ]
    },
    {
      "cell_type": "markdown",
      "source": [
        "#Eksplorasi EDA"
      ],
      "metadata": {
        "id": "kY31ARnY4iae"
      }
    },
    {
      "cell_type": "markdown",
      "source": [
        "##EDA Kolom Industry & Kolom Salary"
      ],
      "metadata": {
        "id": "YzfTOvW46DU7"
      }
    },
    {
      "cell_type": "code",
      "source": [
        "plt.scatter(df['industry'], df['usd_salary'])\n",
        "plt.xlabel('Industry')\n",
        "plt.ylabel('USD Salary')\n",
        "plt.show()"
      ],
      "metadata": {
        "colab": {
          "base_uri": "https://localhost:8080/",
          "height": 380
        },
        "id": "Rb-ltQ6Gf-n5",
        "outputId": "e9a0a1a7-f956-4c9a-8ce0-006a31ca24f5"
      },
      "execution_count": 107,
      "outputs": [
        {
          "output_type": "display_data",
          "data": {
            "text/plain": [
              "<Figure size 640x480 with 1 Axes>"
            ],
            "image/png": "[encoded data removed]"
          },
          "metadata": {}
        }
      ]
    },
    {
      "cell_type": "markdown",
      "source": [
        "### Industri dengan Gaji Terbesar berdasarkan nilai max adalah Industri Utilities & Telecommunications dengan gaji 102.000.000 USD\n",
        "\n",
        "#### NB: Untuk melihat industri dengan gaji terbesar, sebaiknya menggunakan nilai mean (rata-rata) daripada nilai max (nilai maksimum). Hal ini dikarenakan nilai max dapat dipengaruhi oleh outlier atau nilai ekstrim yang tidak merepresentasikan data secara keseluruhan. Sedangkan nilai mean lebih mewakili nilai tengah atau pusat dari data dan tidak terlalu dipengaruhi oleh nilai ekstrim."
      ],
      "metadata": {
        "id": "9rGWej-yXyRP"
      }
    },
    {
      "cell_type": "code",
      "source": [
        "industry_salary = df[['industry', 'usd_salary']]\n",
        "industry_salary_max = industry_salary.groupby(['industry'])['usd_salary'].max().reset_index()\n",
        "industry_salary_max = industry_salary_max.sort_values(by=['usd_salary'], ascending=False)\n",
        "industry_salary_max = industry_salary_max.reset_index(drop=True)\n",
        "industry_salary_max"
      ],
      "metadata": {
        "colab": {
          "base_uri": "https://localhost:8080/",
          "height": 424
        },
        "id": "rf9VbtSTSOGo",
        "outputId": "cc2881dd-4aff-4cb6-acbf-f41794bc2d13"
      },
      "execution_count": 94,
      "outputs": [
        {
          "output_type": "execute_result",
          "data": {
            "text/plain": [
              "                            industry  usd_salary\n",
              "0     Utilities & Telecommunications   102000000\n",
              "1                              Sales     5000044\n",
              "2                       Art & Design     3000000\n",
              "3                  Computing or Tech     2111538\n",
              "4                        Health care     1900000\n",
              "...                              ...         ...\n",
              "1204               Customer service           55\n",
              "1205  Museum (University Affiliated)          40\n",
              "1206                       Homemaker           0\n",
              "1207             Stay-at-home parent           0\n",
              "1208                         student           0\n",
              "\n",
              "[1209 rows x 2 columns]"
            ],
            "text/html": [
              "\n",
              "  <div id=\"df-844e1916-153d-44f4-99c3-6f76766f6090\">\n",
              "    <div class=\"colab-df-container\">\n",
              "      <div>\n",
              "<style scoped>\n",
              "    .dataframe tbody tr th:only-of-type {\n",
              "        vertical-align: middle;\n",
              "    }\n",
              "\n",
              "    .dataframe tbody tr th {\n",
              "        vertical-align: top;\n",
              "    }\n",
              "\n",
              "    .dataframe thead th {\n",
              "        text-align: right;\n",
              "    }\n",
              "</style>\n",
              "<table border=\"1\" class=\"dataframe\">\n",
              "  <thead>\n",
              "    <tr style=\"text-align: right;\">\n",
              "      <th></th>\n",
              "      <th>industry</th>\n",
              "      <th>usd_salary</th>\n",
              "    </tr>\n",
              "  </thead>\n",
              "  <tbody>\n",
              "    <tr>\n",
              "      <th>0</th>\n",
              "      <td>Utilities &amp; Telecommunications</td>\n",
              "      <td>102000000</td>\n",
              "    </tr>\n",
              "    <tr>\n",
              "      <th>1</th>\n",
              "      <td>Sales</td>\n",
              "      <td>5000044</td>\n",
              "    </tr>\n",
              "    <tr>\n",
              "      <th>2</th>\n",
              "      <td>Art &amp; Design</td>\n",
              "      <td>3000000</td>\n",
              "    </tr>\n",
              "    <tr>\n",
              "      <th>3</th>\n",
              "      <td>Computing or Tech</td>\n",
              "      <td>2111538</td>\n",
              "    </tr>\n",
              "    <tr>\n",
              "      <th>4</th>\n",
              "      <td>Health care</td>\n",
              "      <td>1900000</td>\n",
              "    </tr>\n",
              "    <tr>\n",
              "      <th>...</th>\n",
              "      <td>...</td>\n",
              "      <td>...</td>\n",
              "    </tr>\n",
              "    <tr>\n",
              "      <th>1204</th>\n",
              "      <td>Customer service</td>\n",
              "      <td>55</td>\n",
              "    </tr>\n",
              "    <tr>\n",
              "      <th>1205</th>\n",
              "      <td>Museum (University Affiliated)</td>\n",
              "      <td>40</td>\n",
              "    </tr>\n",
              "    <tr>\n",
              "      <th>1206</th>\n",
              "      <td>Homemaker</td>\n",
              "      <td>0</td>\n",
              "    </tr>\n",
              "    <tr>\n",
              "      <th>1207</th>\n",
              "      <td>Stay-at-home parent</td>\n",
              "      <td>0</td>\n",
              "    </tr>\n",
              "    <tr>\n",
              "      <th>1208</th>\n",
              "      <td>student</td>\n",
              "      <td>0</td>\n",
              "    </tr>\n",
              "  </tbody>\n",
              "</table>\n",
              "<p>1209 rows × 2 columns</p>\n",
              "</div>\n",
              "      <button class=\"colab-df-convert\" onclick=\"convertToInteractive('df-844e1916-153d-44f4-99c3-6f76766f6090')\"\n",
              "              title=\"Convert this dataframe to an interactive table.\"\n",
              "              style=\"display:none;\">\n",
              "        \n",
              "  <svg xmlns=\"http://www.w3.org/2000/svg\" height=\"24px\"viewBox=\"0 0 24 24\"\n",
              "       width=\"24px\">\n",
              "    <path d=\"M0 0h24v24H0V0z\" fill=\"none\"/>\n",
              "    <path d=\"M18.56 5.44l.94 2.06.94-2.06 2.06-.94-2.06-.94-.94-2.06-.94 2.06-2.06.94zm-11 1L8.5 8.5l.94-2.06 2.06-.94-2.06-.94L8.5 2.5l-.94 2.06-2.06.94zm10 10l.94 2.06.94-2.06 2.06-.94-2.06-.94-.94-2.06-.94 2.06-2.06.94z\"/><path d=\"M17.41 7.96l-1.37-1.37c-.4-.4-.92-.59-1.43-.59-.52 0-1.04.2-1.43.59L10.3 9.45l-7.72 7.72c-.78.78-.78 2.05 0 2.83L4 21.41c.39.39.9.59 1.41.59.51 0 1.02-.2 1.41-.59l7.78-7.78 2.81-2.81c.8-.78.8-2.07 0-2.86zM5.41 20L4 18.59l7.72-7.72 1.47 1.35L5.41 20z\"/>\n",
              "  </svg>\n",
              "      </button>\n",
              "      \n",
              "  <style>\n",
              "    .colab-df-container {\n",
              "      display:flex;\n",
              "      flex-wrap:wrap;\n",
              "      gap: 12px;\n",
              "    }\n",
              "\n",
              "    .colab-df-convert {\n",
              "      background-color: #E8F0FE;\n",
              "      border: none;\n",
              "      border-radius: 50%;\n",
              "      cursor: pointer;\n",
              "      display: none;\n",
              "      fill: #1967D2;\n",
              "      height: 32px;\n",
              "      padding: 0 0 0 0;\n",
              "      width: 32px;\n",
              "    }\n",
              "\n",
              "    .colab-df-convert:hover {\n",
              "      background-color: #E2EBFA;\n",
              "      box-shadow: 0px 1px 2px rgba(60, 64, 67, 0.3), 0px 1px 3px 1px rgba(60, 64, 67, 0.15);\n",
              "      fill: #174EA6;\n",
              "    }\n",
              "\n",
              "    [theme=dark] .colab-df-convert {\n",
              "      background-color: #3B4455;\n",
              "      fill: #D2E3FC;\n",
              "    }\n",
              "\n",
              "    [theme=dark] .colab-df-convert:hover {\n",
              "      background-color: #434B5C;\n",
              "      box-shadow: 0px 1px 3px 1px rgba(0, 0, 0, 0.15);\n",
              "      filter: drop-shadow(0px 1px 2px rgba(0, 0, 0, 0.3));\n",
              "      fill: #FFFFFF;\n",
              "    }\n",
              "  </style>\n",
              "\n",
              "      <script>\n",
              "        const buttonEl =\n",
              "          document.querySelector('#df-844e1916-153d-44f4-99c3-6f76766f6090 button.colab-df-convert');\n",
              "        buttonEl.style.display =\n",
              "          google.colab.kernel.accessAllowed ? 'block' : 'none';\n",
              "\n",
              "        async function convertToInteractive(key) {\n",
              "          const element = document.querySelector('#df-844e1916-153d-44f4-99c3-6f76766f6090');\n",
              "          const dataTable =\n",
              "            await google.colab.kernel.invokeFunction('convertToInteractive',\n",
              "                                                     [key], {});\n",
              "          if (!dataTable) return;\n",
              "\n",
              "          const docLinkHtml = 'Like what you see? Visit the ' +\n",
              "            '<a target=\"_blank\" href=https://colab.research.google.com/notebooks/data_table.ipynb>data table notebook</a>'\n",
              "            + ' to learn more about interactive tables.';\n",
              "          element.innerHTML = '';\n",
              "          dataTable['output_type'] = 'display_data';\n",
              "          await google.colab.output.renderOutput(dataTable, element);\n",
              "          const docLink = document.createElement('div');\n",
              "          docLink.innerHTML = docLinkHtml;\n",
              "          element.appendChild(docLink);\n",
              "        }\n",
              "      </script>\n",
              "    </div>\n",
              "  </div>\n",
              "  "
            ]
          },
          "metadata": {},
          "execution_count": 94
        }
      ]
    },
    {
      "cell_type": "code",
      "source": [
        "plt.scatter(industry_salary_max['industry'], industry_salary_max['usd_salary'])\n",
        "plt.xlabel('Industry')\n",
        "plt.ylabel('USD Salary')\n",
        "plt.show()"
      ],
      "metadata": {
        "colab": {
          "base_uri": "https://localhost:8080/",
          "height": 384
        },
        "id": "_4K-m4S_gHe1",
        "outputId": "f73e70ee-edca-4afb-e96f-ffb0eb74b8ef"
      },
      "execution_count": 108,
      "outputs": [
        {
          "output_type": "display_data",
          "data": {
            "text/plain": [
              "<Figure size 640x480 with 1 Axes>"
            ],
            "image/png": "[encoded data removed]"
          },
          "metadata": {}
        }
      ]
    },
    {
      "cell_type": "markdown",
      "source": [
        "###**Industri dengan Gaji Terbesar berdasarkan rata-rata adalah Ipr dengan gaji 1.111.111 USD**"
      ],
      "metadata": {
        "id": "ETaGRArPZ1-l"
      }
    },
    {
      "cell_type": "code",
      "source": [
        "industry_salary_mean = industry_salary.groupby(['industry'])['usd_salary'].mean().reset_index()\n",
        "convert_dict = {'industry': object,\n",
        "                'usd_salary': int\n",
        "                }\n",
        "industry_salary_mean = industry_salary_mean.astype(convert_dict)\n",
        "industry_salary_mean = industry_salary_mean.sort_values(by=['usd_salary'], ascending=False)\n",
        "industry_salary_mean = industry_salary_mean.reset_index(drop=True)\n",
        "industry_salary_mean"
      ],
      "metadata": {
        "colab": {
          "base_uri": "https://localhost:8080/",
          "height": 424
        },
        "id": "dBtwfw0yY81y",
        "outputId": "5485a860-a2f0-4d90-b709-26ac06caaa1a"
      },
      "execution_count": 93,
      "outputs": [
        {
          "output_type": "execute_result",
          "data": {
            "text/plain": [
              "                                       industry  usd_salary\n",
              "0                                           Ipr     1111111\n",
              "1                                           Oil      850617\n",
              "2     Commercial Building Material Distribution      400000\n",
              "3                Utilities & Telecommunications      368025\n",
              "4                                        Sports      300000\n",
              "...                                         ...         ...\n",
              "1204                          Customer service           55\n",
              "1205             Museum (University Affiliated)          40\n",
              "1206                                    student           0\n",
              "1207                        Stay-at-home parent           0\n",
              "1208                                  Homemaker           0\n",
              "\n",
              "[1209 rows x 2 columns]"
            ],
            "text/html": [
              "\n",
              "  <div id=\"df-04fa17e4-8ca9-4429-a86e-b7723245439a\">\n",
              "    <div class=\"colab-df-container\">\n",
              "      <div>\n",
              "<style scoped>\n",
              "    .dataframe tbody tr th:only-of-type {\n",
              "        vertical-align: middle;\n",
              "    }\n",
              "\n",
              "    .dataframe tbody tr th {\n",
              "        vertical-align: top;\n",
              "    }\n",
              "\n",
              "    .dataframe thead th {\n",
              "        text-align: right;\n",
              "    }\n",
              "</style>\n",
              "<table border=\"1\" class=\"dataframe\">\n",
              "  <thead>\n",
              "    <tr style=\"text-align: right;\">\n",
              "      <th></th>\n",
              "      <th>industry</th>\n",
              "      <th>usd_salary</th>\n",
              "    </tr>\n",
              "  </thead>\n",
              "  <tbody>\n",
              "    <tr>\n",
              "      <th>0</th>\n",
              "      <td>Ipr</td>\n",
              "      <td>1111111</td>\n",
              "    </tr>\n",
              "    <tr>\n",
              "      <th>1</th>\n",
              "      <td>Oil</td>\n",
              "      <td>850617</td>\n",
              "    </tr>\n",
              "    <tr>\n",
              "      <th>2</th>\n",
              "      <td>Commercial Building Material Distribution</td>\n",
              "      <td>400000</td>\n",
              "    </tr>\n",
              "    <tr>\n",
              "      <th>3</th>\n",
              "      <td>Utilities &amp; Telecommunications</td>\n",
              "      <td>368025</td>\n",
              "    </tr>\n",
              "    <tr>\n",
              "      <th>4</th>\n",
              "      <td>Sports</td>\n",
              "      <td>300000</td>\n",
              "    </tr>\n",
              "    <tr>\n",
              "      <th>...</th>\n",
              "      <td>...</td>\n",
              "      <td>...</td>\n",
              "    </tr>\n",
              "    <tr>\n",
              "      <th>1204</th>\n",
              "      <td>Customer service</td>\n",
              "      <td>55</td>\n",
              "    </tr>\n",
              "    <tr>\n",
              "      <th>1205</th>\n",
              "      <td>Museum (University Affiliated)</td>\n",
              "      <td>40</td>\n",
              "    </tr>\n",
              "    <tr>\n",
              "      <th>1206</th>\n",
              "      <td>student</td>\n",
              "      <td>0</td>\n",
              "    </tr>\n",
              "    <tr>\n",
              "      <th>1207</th>\n",
              "      <td>Stay-at-home parent</td>\n",
              "      <td>0</td>\n",
              "    </tr>\n",
              "    <tr>\n",
              "      <th>1208</th>\n",
              "      <td>Homemaker</td>\n",
              "      <td>0</td>\n",
              "    </tr>\n",
              "  </tbody>\n",
              "</table>\n",
              "<p>1209 rows × 2 columns</p>\n",
              "</div>\n",
              "      <button class=\"colab-df-convert\" onclick=\"convertToInteractive('df-04fa17e4-8ca9-4429-a86e-b7723245439a')\"\n",
              "              title=\"Convert this dataframe to an interactive table.\"\n",
              "              style=\"display:none;\">\n",
              "        \n",
              "  <svg xmlns=\"http://www.w3.org/2000/svg\" height=\"24px\"viewBox=\"0 0 24 24\"\n",
              "       width=\"24px\">\n",
              "    <path d=\"M0 0h24v24H0V0z\" fill=\"none\"/>\n",
              "    <path d=\"M18.56 5.44l.94 2.06.94-2.06 2.06-.94-2.06-.94-.94-2.06-.94 2.06-2.06.94zm-11 1L8.5 8.5l.94-2.06 2.06-.94-2.06-.94L8.5 2.5l-.94 2.06-2.06.94zm10 10l.94 2.06.94-2.06 2.06-.94-2.06-.94-.94-2.06-.94 2.06-2.06.94z\"/><path d=\"M17.41 7.96l-1.37-1.37c-.4-.4-.92-.59-1.43-.59-.52 0-1.04.2-1.43.59L10.3 9.45l-7.72 7.72c-.78.78-.78 2.05 0 2.83L4 21.41c.39.39.9.59 1.41.59.51 0 1.02-.2 1.41-.59l7.78-7.78 2.81-2.81c.8-.78.8-2.07 0-2.86zM5.41 20L4 18.59l7.72-7.72 1.47 1.35L5.41 20z\"/>\n",
              "  </svg>\n",
              "      </button>\n",
              "      \n",
              "  <style>\n",
              "    .colab-df-container {\n",
              "      display:flex;\n",
              "      flex-wrap:wrap;\n",
              "      gap: 12px;\n",
              "    }\n",
              "\n",
              "    .colab-df-convert {\n",
              "      background-color: #E8F0FE;\n",
              "      border: none;\n",
              "      border-radius: 50%;\n",
              "      cursor: pointer;\n",
              "      display: none;\n",
              "      fill: #1967D2;\n",
              "      height: 32px;\n",
              "      padding: 0 0 0 0;\n",
              "      width: 32px;\n",
              "    }\n",
              "\n",
              "    .colab-df-convert:hover {\n",
              "      background-color: #E2EBFA;\n",
              "      box-shadow: 0px 1px 2px rgba(60, 64, 67, 0.3), 0px 1px 3px 1px rgba(60, 64, 67, 0.15);\n",
              "      fill: #174EA6;\n",
              "    }\n",
              "\n",
              "    [theme=dark] .colab-df-convert {\n",
              "      background-color: #3B4455;\n",
              "      fill: #D2E3FC;\n",
              "    }\n",
              "\n",
              "    [theme=dark] .colab-df-convert:hover {\n",
              "      background-color: #434B5C;\n",
              "      box-shadow: 0px 1px 3px 1px rgba(0, 0, 0, 0.15);\n",
              "      filter: drop-shadow(0px 1px 2px rgba(0, 0, 0, 0.3));\n",
              "      fill: #FFFFFF;\n",
              "    }\n",
              "  </style>\n",
              "\n",
              "      <script>\n",
              "        const buttonEl =\n",
              "          document.querySelector('#df-04fa17e4-8ca9-4429-a86e-b7723245439a button.colab-df-convert');\n",
              "        buttonEl.style.display =\n",
              "          google.colab.kernel.accessAllowed ? 'block' : 'none';\n",
              "\n",
              "        async function convertToInteractive(key) {\n",
              "          const element = document.querySelector('#df-04fa17e4-8ca9-4429-a86e-b7723245439a');\n",
              "          const dataTable =\n",
              "            await google.colab.kernel.invokeFunction('convertToInteractive',\n",
              "                                                     [key], {});\n",
              "          if (!dataTable) return;\n",
              "\n",
              "          const docLinkHtml = 'Like what you see? Visit the ' +\n",
              "            '<a target=\"_blank\" href=https://colab.research.google.com/notebooks/data_table.ipynb>data table notebook</a>'\n",
              "            + ' to learn more about interactive tables.';\n",
              "          element.innerHTML = '';\n",
              "          dataTable['output_type'] = 'display_data';\n",
              "          await google.colab.output.renderOutput(dataTable, element);\n",
              "          const docLink = document.createElement('div');\n",
              "          docLink.innerHTML = docLinkHtml;\n",
              "          element.appendChild(docLink);\n",
              "        }\n",
              "      </script>\n",
              "    </div>\n",
              "  </div>\n",
              "  "
            ]
          },
          "metadata": {},
          "execution_count": 93
        }
      ]
    },
    {
      "cell_type": "code",
      "source": [
        "plt.scatter(industry_salary_mean['industry'], industry_salary_mean['usd_salary'])\n",
        "plt.xlabel('Industry')\n",
        "plt.ylabel('USD Salary')\n",
        "plt.show()"
      ],
      "metadata": {
        "colab": {
          "base_uri": "https://localhost:8080/",
          "height": 384
        },
        "id": "fgAfZhgBfxFg",
        "outputId": "6b81dfba-faec-48cb-be78-290621f8f2d8"
      },
      "execution_count": 109,
      "outputs": [
        {
          "output_type": "display_data",
          "data": {
            "text/plain": [
              "<Figure size 640x480 with 1 Axes>"
            ],
            "image/png": "[encoded data removed]"
          },
          "metadata": {}
        }
      ]
    },
    {
      "cell_type": "markdown",
      "source": [
        "#Visualisasi"
      ],
      "metadata": {
        "id": "bZFTdDy26GZX"
      }
    },
    {
      "cell_type": "markdown",
      "source": [
        "##Hubungan Gaji Terhadap Pengalaman Kerja"
      ],
      "metadata": {
        "id": "4fIQ0JJrkR0S"
      }
    },
    {
      "cell_type": "code",
      "source": [
        "mean_salary_by_year = df.groupby('work_experience_overall')['usd_salary'].mean()\n",
        "mean_salary_by_year = mean_salary_by_year.sort_values()\n",
        "mean_salary_by_year.plot(kind='bar', color='purple')\n",
        "\n",
        "# Menambah label dan judul\n",
        "plt.title('Rata-Rata Gaji Berdasarkan Pengalaman Kerja')\n",
        "plt.xlabel('Tahun Pengalaman Kerja')"
      ],
      "metadata": {
        "id": "ehjG83PF6Eva",
        "colab": {
          "base_uri": "https://localhost:8080/",
          "height": 595
        },
        "outputId": "7ab078cc-5d92-4377-a134-8e29722fbfba"
      },
      "execution_count": 87,
      "outputs": [
        {
          "output_type": "execute_result",
          "data": {
            "text/plain": [
              "Text(0.5, 0, 'Tahun Pengalaman Kerja')"
            ]
          },
          "metadata": {},
          "execution_count": 87
        },
        {
          "output_type": "display_data",
          "data": {
            "text/plain": [
              "<Figure size 640x480 with 1 Axes>"
            ],
            "image/png": "[encoded data removed]"
          },
          "metadata": {}
        }
      ]
    },
    {
      "cell_type": "code",
      "source": [
        "mean_salary_by_year = df.groupby('work_experience_professional')['usd_salary'].mean()\n",
        "mean_salary_by_year = mean_salary_by_year.sort_values()\n",
        "mean_salary_by_year.plot(kind='bar', color='purple')\n",
        "\n",
        "# Menambah label dan judul\n",
        "plt.title('Rata-Rata Gaji Berdasarkan Pengalaman Kerja di Bidangnya')\n",
        "plt.xlabel('Tahun Pengalaman Kerja')"
      ],
      "metadata": {
        "colab": {
          "base_uri": "https://localhost:8080/",
          "height": 595
        },
        "id": "BgLH2NuInYFQ",
        "outputId": "4f649439-7765-4eb8-8884-e0167bac877c"
      },
      "execution_count": 112,
      "outputs": [
        {
          "output_type": "execute_result",
          "data": {
            "text/plain": [
              "Text(0.5, 0, 'Tahun Pengalaman Kerja')"
            ]
          },
          "metadata": {},
          "execution_count": 112
        },
        {
          "output_type": "display_data",
          "data": {
            "text/plain": [
              "<Figure size 640x480 with 1 Axes>"
            ],
            "image/png": "[encoded data removed]"
          },
          "metadata": {}
        }
      ]
    },
    {
      "cell_type": "markdown",
      "source": [
        "##Hubungan Jenis Kelamin Terhadap Gaji"
      ],
      "metadata": {
        "id": "mJ0QPVWCoZFv"
      }
    },
    {
      "cell_type": "code",
      "source": [
        "mean_salary_by_gender = df.groupby('gender')['usd_salary'].mean()\n",
        "mean_salary_by_gender = mean_salary_by_gender.sort_values()\n",
        "mean_salary_by_gender.plot(kind='bar', color='purple')\n",
        "\n",
        "# Menambah label dan judul\n",
        "plt.title('Rata-Rata Gaji Berdasarkan Jenis Kelamin')\n",
        "plt.xlabel('Jenis Kelamin')"
      ],
      "metadata": {
        "colab": {
          "base_uri": "https://localhost:8080/",
          "height": 680
        },
        "id": "9-IiBwcRofpI",
        "outputId": "04975496-d668-4d0c-cce0-659ecd803bb0"
      },
      "execution_count": 114,
      "outputs": [
        {
          "output_type": "execute_result",
          "data": {
            "text/plain": [
              "Text(0.5, 0, 'Jenis Kelamin')"
            ]
          },
          "metadata": {},
          "execution_count": 114
        },
        {
          "output_type": "display_data",
          "data": {
            "text/plain": [
              "<Figure size 640x480 with 1 Axes>"
            ],
            "image/png": "[encoded data removed]"
          },
          "metadata": {}
        }
      ]
    },
    {
      "cell_type": "markdown",
      "source": [
        "##Hubungan Tingkat Pendidikan Terhadap Gaji"
      ],
      "metadata": {
        "id": "fI5b-2Nerb0b"
      }
    },
    {
      "cell_type": "code",
      "source": [
        "mean_salary_by_education = df.groupby('education')['usd_salary'].mean()\n",
        "mean_salary_by_education = mean_salary_by_education.sort_values()\n",
        "mean_salary_by_education.plot(kind='bar', color='purple')\n",
        "\n",
        "# Menambah label dan judul\n",
        "plt.title('Rata-Rata Gaji Berdasarkan Tinkat Pendidikan')\n",
        "plt.xlabel('Tingkat Pendidikan')"
      ],
      "metadata": {
        "colab": {
          "base_uri": "https://localhost:8080/",
          "height": 709
        },
        "id": "XzA_K6S3rajA",
        "outputId": "89be8b28-3980-42c8-986c-528b563f365a"
      },
      "execution_count": 115,
      "outputs": [
        {
          "output_type": "execute_result",
          "data": {
            "text/plain": [
              "Text(0.5, 0, 'Tingkat Pendidikan')"
            ]
          },
          "metadata": {},
          "execution_count": 115
        },
        {
          "output_type": "display_data",
          "data": {
            "text/plain": [
              "<Figure size 640x480 with 1 Axes>"
            ],
            "image/png": "[encoded data removed]"
          },
          "metadata": {}
        }
      ]
    }
  ]
}