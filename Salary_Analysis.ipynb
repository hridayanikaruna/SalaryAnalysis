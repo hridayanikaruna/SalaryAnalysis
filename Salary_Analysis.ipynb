{
  "nbformat": 4,
  "nbformat_minor": 0,
  "metadata": {
    "colab": {
      "provenance": [],
      "collapsed_sections": [
        "dXaKpNXu0Dz3",
        "SOlDF0Id2JXa",
        "acBs6WAI2Q7e",
        "4XTfSkXxBAg9",
        "OI6d5S6e2agr",
        "tjIDBu2X2dBE",
        "MdG2thLY29fR"
      ],
      "include_colab_link": true
    },
    "kernelspec": {
      "name": "python3",
      "display_name": "Python 3"
    },
    "language_info": {
      "name": "python"
    }
  },
  "cells": [
    {
      "cell_type": "markdown",
      "metadata": {
        "id": "view-in-github",
        "colab_type": "text"
      },
      "source": [
        "<a href=\"https://colab.research.google.com/github/hridayanikaruna/SalaryAnalysis/blob/main/Salary_Analysis.ipynb\" target=\"_parent\"><img src=\"https://colab.research.google.com/assets/colab-badge.svg\" alt=\"Open In Colab\"/></a>"
      ]
    },
    {
      "cell_type": "markdown",
      "source": [],
      "metadata": {
        "id": "s0wJegD3z7ln"
      }
    },
    {
      "cell_type": "markdown",
      "source": [
        "#Persiapan Data sebelum melakukan Analisis"
      ],
      "metadata": {
        "id": "dXaKpNXu0Dz3"
      }
    },
    {
      "cell_type": "markdown",
      "source": [
        "##Kasus(Relationship per tabel)\n",
        "1. Industri mana yang memberikan gaji paling besar/kecil\n",
        "2. Bagaimana pengaruh pengalaman kerja terhadap gaji: pengalaman kerja di bidang dengan gaji, dan pengalama kerja dengan gaji\n",
        "3. Bagaimana pengaruh jenis kelamin terhadap gaji\n",
        "4. Bagaimana pengaruh tingkat pendidikan terhadap gaji"
      ],
      "metadata": {
        "id": "9AHZOha10IA7"
      }
    },
    {
      "cell_type": "markdown",
      "source": [
        "##Data Preparation\n",
        "Menyiapkan dataset"
      ],
      "metadata": {
        "id": "Fj6LfbEx0crc"
      }
    },
    {
      "cell_type": "markdown",
      "source": [
        "##Data Discovery & Profiling\n",
        "1. Keterangan\n",
        "- Semua data yang kita modusin jika mising value dibawah 1% dari total keseluruhan data\n",
        "- Mengidentifikasi pola, hubungan, dan atribut lain dalam data, serta ketidakkonsistenan, anomali, nilai yang hilang, dan masalah lain sehingga dapat diatasi.\n",
        "\n",
        "2. Kolom Industry \n",
        "- Problem: ada yang gak isi.\n",
        "- Solusi: kita sesuaikan pakek kolom job title\n",
        "\n",
        "3. Kolom Currency\n",
        "- Kasus 1: \n",
        "  - Problem: ada orang yang ngisi di kolom currency dan juga di other currency, jadinya bisa aja dia currencynya USD tapi dia ngisi juga di other currency. \n",
        "  - Solusi: Jadinya kita cek yang di currency milih other dan ngisi di other currency. Yang ngisinya selain other di currency berarti di kolom other currency gak dipakek\n",
        "\n",
        "4. Kolom Education\n",
        "- Kasus 4: \n",
        "- Problem: data education ada yang memang gak ngisi education, atau memang dia gak punya education. \n",
        "- Solusi: kita ubah field nya makek nilai modus.\n",
        "\n",
        "5. Kolom Gender\n",
        "- Kasus 3: \n",
        "  - Problem: ada field kosong. \n",
        "  - Solusi: kolom gender untuk menangani field kosong kita makek cara modus"
      ],
      "metadata": {
        "id": "JmRsXwSs0a3y"
      }
    },
    {
      "cell_type": "markdown",
      "source": [
        "## Data Cleansing\n",
        "Kesalahan dan masalah data yang teridentifikasi diperbaiki untuk membuat kumpulan data yang lengkap dan akurat. Misalnya, sebagai bagian dari kumpulan data pembersihan, data yang salah dihapus atau diperbaiki, nilai yang hilang diisi dan entri yang tidak konsisten diselaraskan.\n",
        "1. Imputasi data per kolom dalam dataset Salary"
      ],
      "metadata": {
        "id": "UlSalchJ16D2"
      }
    },
    {
      "cell_type": "markdown",
      "source": [
        "##Data structuring\n",
        "Data perlu dimodelkan dan diatur untuk memenuhi persyaratan analitik. Misalnya, data yang disimpan dalam file nilai yang dipisahkan koma (CSV) atau format file lainnya harus diubah menjadi tabel agar dapat diakses oleh BI dan alat analitik"
      ],
      "metadata": {
        "id": "zM44fCKI2Bxu"
      }
    },
    {
      "cell_type": "markdown",
      "source": [
        "## Format the data"
      ],
      "metadata": {
        "id": "IVDc--qc2GFW"
      }
    },
    {
      "cell_type": "markdown",
      "source": [
        "## Combine the data\n"
      ],
      "metadata": {
        "id": "70JOc_Hp2I11"
      }
    },
    {
      "cell_type": "markdown",
      "source": [
        "## Analysis the data\n"
      ],
      "metadata": {
        "id": "nsBo76oN2LtP"
      }
    },
    {
      "cell_type": "markdown",
      "source": [
        "## Visualization"
      ],
      "metadata": {
        "id": "NenwxGhc2NYa"
      }
    },
    {
      "cell_type": "markdown",
      "source": [
        "#Import Library"
      ],
      "metadata": {
        "id": "SOlDF0Id2JXa"
      }
    },
    {
      "cell_type": "code",
      "source": [
        "import pandas as pd\n",
        "import numpy as np\n",
        "import matplotlib.pyplot as plt"
      ],
      "metadata": {
        "id": "G1Ek_hnp0-Kf"
      },
      "execution_count": null,
      "outputs": []
    },
    {
      "cell_type": "markdown",
      "source": [
        "#Membaca Data"
      ],
      "metadata": {
        "id": "acBs6WAI2Q7e"
      }
    },
    {
      "cell_type": "code",
      "execution_count": null,
      "metadata": {
        "colab": {
          "base_uri": "https://localhost:8080/",
          "height": 395
        },
        "id": "Azf5MkAz0jjs",
        "outputId": "ad73f7c2-d7e6-4b4c-a607-ec2588dcf3a8"
      },
      "outputs": [
        {
          "output_type": "execute_result",
          "data": {
            "text/plain": [
              "                Timestamp    age                       industry  \\\n",
              "0 2021-04-27 11:02:09.743  25-34   Education (Higher Education)   \n",
              "1 2021-04-27 11:02:21.562  25-34              Computing or Tech   \n",
              "2 2021-04-27 11:02:38.125  25-34  Accounting, Banking & Finance   \n",
              "3 2021-04-27 11:02:40.643  25-34                     Nonprofits   \n",
              "4 2021-04-27 11:02:41.793  25-34  Accounting, Banking & Finance   \n",
              "\n",
              "                                  job_title job_title_additional_context  \\\n",
              "0        Research and Instruction Librarian                          NaN   \n",
              "1  Change & Internal Communications Manager                          NaN   \n",
              "2                      Marketing Specialist                          NaN   \n",
              "3                           Program Manager                          NaN   \n",
              "4                        Accounting Manager                          NaN   \n",
              "\n",
              "   salary  additional_salary currency other_currency  \\\n",
              "0   55000                0.0      USD            NaN   \n",
              "1   54600             4000.0      GBP            NaN   \n",
              "2   34000                NaN      USD            NaN   \n",
              "3   62000             3000.0      USD            NaN   \n",
              "4   60000             7000.0      USD            NaN   \n",
              "\n",
              "  income_additional_context         country      us_country         city  \\\n",
              "0                       NaN   United States   Massachusetts       Boston   \n",
              "1                       NaN  United Kingdom             NaN    Cambridge   \n",
              "2                       NaN              US       Tennessee  Chattanooga   \n",
              "3                       NaN             USA       Wisconsin    Milwaukee   \n",
              "4                       NaN              US  South Carolina   Greenville   \n",
              "\n",
              "  work_experience_overall work_experience_professional        education  \\\n",
              "0               5-7 years                    5-7 years  Master's degree   \n",
              "1            8 - 10 years                    5-7 years   College degree   \n",
              "2             2 - 4 years                  2 - 4 years   College degree   \n",
              "3            8 - 10 years                    5-7 years   College degree   \n",
              "4            8 - 10 years                    5-7 years   College degree   \n",
              "\n",
              "       gender   race  \n",
              "0       Woman  White  \n",
              "1  Non-binary  White  \n",
              "2       Woman  White  \n",
              "3       Woman  White  \n",
              "4       Woman  White  "
            ],
            "text/html": [
              "\n",
              "  <div id=\"df-6ec07f13-040f-421d-84b8-5369a959b158\">\n",
              "    <div class=\"colab-df-container\">\n",
              "      <div>\n",
              "<style scoped>\n",
              "    .dataframe tbody tr th:only-of-type {\n",
              "        vertical-align: middle;\n",
              "    }\n",
              "\n",
              "    .dataframe tbody tr th {\n",
              "        vertical-align: top;\n",
              "    }\n",
              "\n",
              "    .dataframe thead th {\n",
              "        text-align: right;\n",
              "    }\n",
              "</style>\n",
              "<table border=\"1\" class=\"dataframe\">\n",
              "  <thead>\n",
              "    <tr style=\"text-align: right;\">\n",
              "      <th></th>\n",
              "      <th>Timestamp</th>\n",
              "      <th>age</th>\n",
              "      <th>industry</th>\n",
              "      <th>job_title</th>\n",
              "      <th>job_title_additional_context</th>\n",
              "      <th>salary</th>\n",
              "      <th>additional_salary</th>\n",
              "      <th>currency</th>\n",
              "      <th>other_currency</th>\n",
              "      <th>income_additional_context</th>\n",
              "      <th>country</th>\n",
              "      <th>us_country</th>\n",
              "      <th>city</th>\n",
              "      <th>work_experience_overall</th>\n",
              "      <th>work_experience_professional</th>\n",
              "      <th>education</th>\n",
              "      <th>gender</th>\n",
              "      <th>race</th>\n",
              "    </tr>\n",
              "  </thead>\n",
              "  <tbody>\n",
              "    <tr>\n",
              "      <th>0</th>\n",
              "      <td>2021-04-27 11:02:09.743</td>\n",
              "      <td>25-34</td>\n",
              "      <td>Education (Higher Education)</td>\n",
              "      <td>Research and Instruction Librarian</td>\n",
              "      <td>NaN</td>\n",
              "      <td>55000</td>\n",
              "      <td>0.0</td>\n",
              "      <td>USD</td>\n",
              "      <td>NaN</td>\n",
              "      <td>NaN</td>\n",
              "      <td>United States</td>\n",
              "      <td>Massachusetts</td>\n",
              "      <td>Boston</td>\n",
              "      <td>5-7 years</td>\n",
              "      <td>5-7 years</td>\n",
              "      <td>Master's degree</td>\n",
              "      <td>Woman</td>\n",
              "      <td>White</td>\n",
              "    </tr>\n",
              "    <tr>\n",
              "      <th>1</th>\n",
              "      <td>2021-04-27 11:02:21.562</td>\n",
              "      <td>25-34</td>\n",
              "      <td>Computing or Tech</td>\n",
              "      <td>Change &amp; Internal Communications Manager</td>\n",
              "      <td>NaN</td>\n",
              "      <td>54600</td>\n",
              "      <td>4000.0</td>\n",
              "      <td>GBP</td>\n",
              "      <td>NaN</td>\n",
              "      <td>NaN</td>\n",
              "      <td>United Kingdom</td>\n",
              "      <td>NaN</td>\n",
              "      <td>Cambridge</td>\n",
              "      <td>8 - 10 years</td>\n",
              "      <td>5-7 years</td>\n",
              "      <td>College degree</td>\n",
              "      <td>Non-binary</td>\n",
              "      <td>White</td>\n",
              "    </tr>\n",
              "    <tr>\n",
              "      <th>2</th>\n",
              "      <td>2021-04-27 11:02:38.125</td>\n",
              "      <td>25-34</td>\n",
              "      <td>Accounting, Banking &amp; Finance</td>\n",
              "      <td>Marketing Specialist</td>\n",
              "      <td>NaN</td>\n",
              "      <td>34000</td>\n",
              "      <td>NaN</td>\n",
              "      <td>USD</td>\n",
              "      <td>NaN</td>\n",
              "      <td>NaN</td>\n",
              "      <td>US</td>\n",
              "      <td>Tennessee</td>\n",
              "      <td>Chattanooga</td>\n",
              "      <td>2 - 4 years</td>\n",
              "      <td>2 - 4 years</td>\n",
              "      <td>College degree</td>\n",
              "      <td>Woman</td>\n",
              "      <td>White</td>\n",
              "    </tr>\n",
              "    <tr>\n",
              "      <th>3</th>\n",
              "      <td>2021-04-27 11:02:40.643</td>\n",
              "      <td>25-34</td>\n",
              "      <td>Nonprofits</td>\n",
              "      <td>Program Manager</td>\n",
              "      <td>NaN</td>\n",
              "      <td>62000</td>\n",
              "      <td>3000.0</td>\n",
              "      <td>USD</td>\n",
              "      <td>NaN</td>\n",
              "      <td>NaN</td>\n",
              "      <td>USA</td>\n",
              "      <td>Wisconsin</td>\n",
              "      <td>Milwaukee</td>\n",
              "      <td>8 - 10 years</td>\n",
              "      <td>5-7 years</td>\n",
              "      <td>College degree</td>\n",
              "      <td>Woman</td>\n",
              "      <td>White</td>\n",
              "    </tr>\n",
              "    <tr>\n",
              "      <th>4</th>\n",
              "      <td>2021-04-27 11:02:41.793</td>\n",
              "      <td>25-34</td>\n",
              "      <td>Accounting, Banking &amp; Finance</td>\n",
              "      <td>Accounting Manager</td>\n",
              "      <td>NaN</td>\n",
              "      <td>60000</td>\n",
              "      <td>7000.0</td>\n",
              "      <td>USD</td>\n",
              "      <td>NaN</td>\n",
              "      <td>NaN</td>\n",
              "      <td>US</td>\n",
              "      <td>South Carolina</td>\n",
              "      <td>Greenville</td>\n",
              "      <td>8 - 10 years</td>\n",
              "      <td>5-7 years</td>\n",
              "      <td>College degree</td>\n",
              "      <td>Woman</td>\n",
              "      <td>White</td>\n",
              "    </tr>\n",
              "  </tbody>\n",
              "</table>\n",
              "</div>\n",
              "      <button class=\"colab-df-convert\" onclick=\"convertToInteractive('df-6ec07f13-040f-421d-84b8-5369a959b158')\"\n",
              "              title=\"Convert this dataframe to an interactive table.\"\n",
              "              style=\"display:none;\">\n",
              "        \n",
              "  <svg xmlns=\"http://www.w3.org/2000/svg\" height=\"24px\"viewBox=\"0 0 24 24\"\n",
              "       width=\"24px\">\n",
              "    <path d=\"M0 0h24v24H0V0z\" fill=\"none\"/>\n",
              "    <path d=\"M18.56 5.44l.94 2.06.94-2.06 2.06-.94-2.06-.94-.94-2.06-.94 2.06-2.06.94zm-11 1L8.5 8.5l.94-2.06 2.06-.94-2.06-.94L8.5 2.5l-.94 2.06-2.06.94zm10 10l.94 2.06.94-2.06 2.06-.94-2.06-.94-.94-2.06-.94 2.06-2.06.94z\"/><path d=\"M17.41 7.96l-1.37-1.37c-.4-.4-.92-.59-1.43-.59-.52 0-1.04.2-1.43.59L10.3 9.45l-7.72 7.72c-.78.78-.78 2.05 0 2.83L4 21.41c.39.39.9.59 1.41.59.51 0 1.02-.2 1.41-.59l7.78-7.78 2.81-2.81c.8-.78.8-2.07 0-2.86zM5.41 20L4 18.59l7.72-7.72 1.47 1.35L5.41 20z\"/>\n",
              "  </svg>\n",
              "      </button>\n",
              "      \n",
              "  <style>\n",
              "    .colab-df-container {\n",
              "      display:flex;\n",
              "      flex-wrap:wrap;\n",
              "      gap: 12px;\n",
              "    }\n",
              "\n",
              "    .colab-df-convert {\n",
              "      background-color: #E8F0FE;\n",
              "      border: none;\n",
              "      border-radius: 50%;\n",
              "      cursor: pointer;\n",
              "      display: none;\n",
              "      fill: #1967D2;\n",
              "      height: 32px;\n",
              "      padding: 0 0 0 0;\n",
              "      width: 32px;\n",
              "    }\n",
              "\n",
              "    .colab-df-convert:hover {\n",
              "      background-color: #E2EBFA;\n",
              "      box-shadow: 0px 1px 2px rgba(60, 64, 67, 0.3), 0px 1px 3px 1px rgba(60, 64, 67, 0.15);\n",
              "      fill: #174EA6;\n",
              "    }\n",
              "\n",
              "    [theme=dark] .colab-df-convert {\n",
              "      background-color: #3B4455;\n",
              "      fill: #D2E3FC;\n",
              "    }\n",
              "\n",
              "    [theme=dark] .colab-df-convert:hover {\n",
              "      background-color: #434B5C;\n",
              "      box-shadow: 0px 1px 3px 1px rgba(0, 0, 0, 0.15);\n",
              "      filter: drop-shadow(0px 1px 2px rgba(0, 0, 0, 0.3));\n",
              "      fill: #FFFFFF;\n",
              "    }\n",
              "  </style>\n",
              "\n",
              "      <script>\n",
              "        const buttonEl =\n",
              "          document.querySelector('#df-6ec07f13-040f-421d-84b8-5369a959b158 button.colab-df-convert');\n",
              "        buttonEl.style.display =\n",
              "          google.colab.kernel.accessAllowed ? 'block' : 'none';\n",
              "\n",
              "        async function convertToInteractive(key) {\n",
              "          const element = document.querySelector('#df-6ec07f13-040f-421d-84b8-5369a959b158');\n",
              "          const dataTable =\n",
              "            await google.colab.kernel.invokeFunction('convertToInteractive',\n",
              "                                                     [key], {});\n",
              "          if (!dataTable) return;\n",
              "\n",
              "          const docLinkHtml = 'Like what you see? Visit the ' +\n",
              "            '<a target=\"_blank\" href=https://colab.research.google.com/notebooks/data_table.ipynb>data table notebook</a>'\n",
              "            + ' to learn more about interactive tables.';\n",
              "          element.innerHTML = '';\n",
              "          dataTable['output_type'] = 'display_data';\n",
              "          await google.colab.output.renderOutput(dataTable, element);\n",
              "          const docLink = document.createElement('div');\n",
              "          docLink.innerHTML = docLinkHtml;\n",
              "          element.appendChild(docLink);\n",
              "        }\n",
              "      </script>\n",
              "    </div>\n",
              "  </div>\n",
              "  "
            ]
          },
          "metadata": {},
          "execution_count": 25
        }
      ],
      "source": [
        "df = pd.read_excel (r'salary_survey.xlsx')\n",
        "df.head()"
      ]
    },
    {
      "cell_type": "markdown",
      "source": [
        "#Mengecek dan Mengisi Data Kosong"
      ],
      "metadata": {
        "id": "WMuQhbrv4RQz"
      }
    },
    {
      "cell_type": "code",
      "source": [
        "print(df.isnull().sum())"
      ],
      "metadata": {
        "colab": {
          "base_uri": "https://localhost:8080/"
        },
        "id": "e3Mh93kRjAB1",
        "outputId": "72b6587d-02de-4115-88d2-6a9199282038"
      },
      "execution_count": null,
      "outputs": [
        {
          "output_type": "stream",
          "name": "stdout",
          "text": [
            "Timestamp                           0\n",
            "age                                 0\n",
            "industry                           72\n",
            "job_title                           0\n",
            "job_title_additional_context    20713\n",
            "salary                              0\n",
            "additional_salary                7256\n",
            "currency                            0\n",
            "other_currency                  27749\n",
            "income_additional_context       24912\n",
            "country                             0\n",
            "us_country                       4982\n",
            "city                               75\n",
            "work_experience_overall             0\n",
            "work_experience_professional        0\n",
            "education                         214\n",
            "gender                            167\n",
            "race                              169\n",
            "dtype: int64\n"
          ]
        }
      ]
    },
    {
      "cell_type": "markdown",
      "source": [
        "##Mengisi Missing Value"
      ],
      "metadata": {
        "id": "o2odzPQO5ZqZ"
      }
    },
    {
      "cell_type": "markdown",
      "source": [
        "###Modus\n",
        "Data kosong yang bersifat kategorikal dan tidak dapat dihitung seperti data numerik, dapat diisi dengan modus. Modus akan memberikan nilai yang paling sering muncul dan sesuai dengan jenis data.\n",
        "\n",
        "KET : KOLOM INDUSTRY SEMENTARA AJA"
      ],
      "metadata": {
        "id": "4XTfSkXxBAg9"
      }
    },
    {
      "cell_type": "code",
      "source": [
        "mode_gender = df['gender'].mode()[0]\n",
        "df['gender'].fillna(mode_gender, inplace=True)\n",
        "\n",
        "mode_education = df['education'].mode()[0]\n",
        "df['education'].fillna(mode_education, inplace=True)\n",
        "\n",
        "mode_industry= df['industry'].mode()[0]\n",
        "df['industry'].fillna(mode_industry, inplace=True)"
      ],
      "metadata": {
        "id": "mDAyLGye5UoH"
      },
      "execution_count": null,
      "outputs": []
    },
    {
      "cell_type": "markdown",
      "source": [
        "Kode di atas merupakan pengisian missing value dengan modus untuk kolom gender, education, dan industry"
      ],
      "metadata": {
        "id": "kl1kGXdBnZqu"
      }
    },
    {
      "cell_type": "code",
      "source": [
        "missing_gender = df['gender'].isnull().sum()\n",
        "print('Jumlah missing value di kolom gender:', missing_gender)\n",
        "\n",
        "missing_education = df['education'].isnull().sum()\n",
        "print('Jumlah missing value di kolom education:', missing_education)\n",
        "\n",
        "missing_industry = df['industry'].isnull().sum()\n",
        "print('Jumlah missing value di kolom industry:', missing_industry)"
      ],
      "metadata": {
        "colab": {
          "base_uri": "https://localhost:8080/"
        },
        "id": "XR_c5dHO5JcJ",
        "outputId": "a4b62f8d-34fd-4e31-bc4b-6d7e9c9f1f0e"
      },
      "execution_count": null,
      "outputs": [
        {
          "output_type": "stream",
          "name": "stdout",
          "text": [
            "Jumlah missing value di kolom gender: 0\n",
            "Jumlah missing value di kolom education: 0\n"
          ]
        }
      ]
    },
    {
      "cell_type": "markdown",
      "source": [
        "Setelah diisi missing valuenya dengan modus, kolom gender, education, dan industry sudah tidak memiliki value kosong lagi."
      ],
      "metadata": {
        "id": "MH79YC4ynfSW"
      }
    },
    {
      "cell_type": "code",
      "source": [
        "try:\n",
        "    df['industry'] = df.groupby('job_title')['industry'].apply(lambda x: x.fillna(x.mode()[0]))\n",
        "except KeyError:\n",
        "    mode_industry = df['industry'].mode()[0]\n",
        "    df['industry'] = df['industry'].fillna(mode_industry)"
      ],
      "metadata": {
        "id": "UADrJ-iQBHFR"
      },
      "execution_count": null,
      "outputs": []
    },
    {
      "cell_type": "markdown",
      "source": [
        "#Mengubah Currency Rate"
      ],
      "metadata": {
        "id": "OI6d5S6e2agr"
      }
    },
    {
      "cell_type": "markdown",
      "source": [
        "##Melihat data currency"
      ],
      "metadata": {
        "id": "tjIDBu2X2dBE"
      }
    },
    {
      "cell_type": "code",
      "source": [
        "# Menampilkan kolom data\n",
        "print(df.salary)\n",
        "print(df.currency)\n",
        "print(df.other_currency)"
      ],
      "metadata": {
        "colab": {
          "base_uri": "https://localhost:8080/"
        },
        "id": "tSZpe1PC2Ige",
        "outputId": "1439423c-bd83-415f-a353-9c9fd7d8744e"
      },
      "execution_count": null,
      "outputs": [
        {
          "output_type": "stream",
          "name": "stdout",
          "text": [
            "0         55000\n",
            "1         54600\n",
            "2         34000\n",
            "3         62000\n",
            "4         60000\n",
            "          ...  \n",
            "27941    190000\n",
            "27942     55000\n",
            "27943     52416\n",
            "27944     36000\n",
            "27945     60000\n",
            "Name: salary, Length: 27946, dtype: int64\n",
            "0        USD\n",
            "1        GBP\n",
            "2        USD\n",
            "3        USD\n",
            "4        USD\n",
            "        ... \n",
            "27941    USD\n",
            "27942    USD\n",
            "27943    USD\n",
            "27944    USD\n",
            "27945    USD\n",
            "Name: currency, Length: 27946, dtype: object\n",
            "0        NaN\n",
            "1        NaN\n",
            "2        NaN\n",
            "3        NaN\n",
            "4        NaN\n",
            "        ... \n",
            "27941    NaN\n",
            "27942    NaN\n",
            "27943    NaN\n",
            "27944    NaN\n",
            "27945    NaN\n",
            "Name: other_currency, Length: 27946, dtype: object\n"
          ]
        }
      ]
    },
    {
      "cell_type": "code",
      "source": [
        "print(df.loc[434, 'currency'])"
      ],
      "metadata": {
        "colab": {
          "base_uri": "https://localhost:8080/"
        },
        "id": "Osc3bzym2170",
        "outputId": "51114e10-fbab-46d4-b077-315a65fbd88c"
      },
      "execution_count": null,
      "outputs": [
        {
          "output_type": "stream",
          "name": "stdout",
          "text": [
            "Other\n"
          ]
        }
      ]
    },
    {
      "cell_type": "markdown",
      "source": [
        "Dapat dilihat bahwa data dengan **index 434** memiliki data currency **'Other'**. Maka dari itu, data currencynya perlu diambil dari kolom **other_currency**."
      ],
      "metadata": {
        "id": "ZBIiURQi23gc"
      }
    },
    {
      "cell_type": "markdown",
      "source": [
        "##Menggabungkan kolom curreny dengan other_curreny"
      ],
      "metadata": {
        "id": "MdG2thLY29fR"
      }
    },
    {
      "cell_type": "code",
      "source": [
        "df['new_currency'] = df['currency']\n",
        "df['new_currency'] = df['new_currency'].where(df['new_currency'] != 'Other', df['other_currency'])\n",
        "print(df['new_currency'])"
      ],
      "metadata": {
        "colab": {
          "base_uri": "https://localhost:8080/"
        },
        "id": "w4fD3jv025xn",
        "outputId": "13cdaffa-e570-47ad-83c7-de210dc98ba6"
      },
      "execution_count": null,
      "outputs": [
        {
          "output_type": "stream",
          "name": "stdout",
          "text": [
            "0        USD\n",
            "1        GBP\n",
            "2        USD\n",
            "3        USD\n",
            "4        USD\n",
            "        ... \n",
            "27941    USD\n",
            "27942    USD\n",
            "27943    USD\n",
            "27944    USD\n",
            "27945    USD\n",
            "Name: new_currency, Length: 27946, dtype: object\n"
          ]
        }
      ]
    },
    {
      "cell_type": "markdown",
      "source": [
        "**Penjelasan Kode**\n",
        "\n",
        "Nilai pada kolom **new_currency** yang bernilai **'Other'** akan **diganti** dengan nilai dari kolom **other_currency**. Jika nilai tidak bernilai other, maka data di new_currency akan tetap **sama**."
      ],
      "metadata": {
        "id": "gI_845Hx3T4S"
      }
    },
    {
      "cell_type": "code",
      "source": [
        "print(df.loc[434, 'new_currency'])"
      ],
      "metadata": {
        "colab": {
          "base_uri": "https://localhost:8080/"
        },
        "id": "4M7z5jSx3WdH",
        "outputId": "37b14be0-2330-4d50-de1b-7e92c7cee375"
      },
      "execution_count": null,
      "outputs": [
        {
          "output_type": "stream",
          "name": "stdout",
          "text": [
            "INR\n"
          ]
        }
      ]
    },
    {
      "cell_type": "markdown",
      "source": [
        "Setelah kolom currency dan other_currency digabung, dapat dilihat data dengan index 434 adalah INR"
      ],
      "metadata": {
        "id": "Mnn5YM1E3fPo"
      }
    },
    {
      "cell_type": "markdown",
      "source": [
        "##Melihat jenis currency"
      ],
      "metadata": {
        "id": "smfvAT4r3mS2"
      }
    },
    {
      "cell_type": "code",
      "source": [
        "currency_types = df['new_currency'].unique()\n",
        "currency_count = df['new_currency'].value_counts()\n",
        "print(currency_types)\n",
        "print(currency_count)"
      ],
      "metadata": {
        "colab": {
          "base_uri": "https://localhost:8080/"
        },
        "id": "ai5pyns63pU0",
        "outputId": "5dfeccd6-6dcd-4909-c8b5-62977d748315"
      },
      "execution_count": null,
      "outputs": [
        {
          "output_type": "stream",
          "name": "stdout",
          "text": [
            "['USD' 'GBP' 'CAD' 'EUR' 'AUD/NZD' 'INR' 'Peso Argentino' 'CHF' 'MYR'\n",
            " 'ZAR' 'SEK' 'HKD' 'NOK' 'BR$' 'Dkk' 'TTD' 'Indian rupees' 'BRL (R$)'\n",
            " 'Mexican pesos' 'CZK' 'DKK' 'Bdt' 'American Dollars' 'Php'\n",
            " 'PLN (Polish zloty)' 'czech crowns' 'TRY' 'Norwegian kroner (NOK)' 'CNY'\n",
            " 'ILS/NIS' nan 'US Dollar' 'BRL' 'NIS (new Israeli shekel)'\n",
            " 'RMB (chinese yuan)' 'AUD' 'JPY' 'Taiwanese dollars' 'Philippine Peso'\n",
            " 'SGD' 'KRW (Korean Won)' 'Czk' 'THB' 'IDR ' 'Sgd' 'Nok' 'NZD'\n",
            " 'ILS (Shekel)' 'DKK ' 'China RMB' 'AUD Australian ' 'LKR' 'Polish Złoty'\n",
            " 'Philippine peso (PHP)' 'Australian Dollars ' 'PHP' 'Equity' 'ARS'\n",
            " 'Argentinian peso (ARS)' 'Israeli Shekels' 'ILS' 'MXN'\n",
            " 'PhP (Philippine Peso)' 'PLN' 'KRW' 'SAR' 'RM' 'IDR' 'Argentine Peso'\n",
            " 'Philippine Pesos' 'Ils' 'INR (Indian Rupee)' 'NTD' 'Danish Kroner'\n",
            " 'Korean Won ' 'dkk' 'Euro' 'SGD ' 'Mexican Pesos' 'THAI  BAHT'\n",
            " 'Thai Baht ' 'croatian kuna' 'PLN (Zwoty)' 'Rupees' 'Singapore Dollara'\n",
            " 'NGN' 'COP']\n",
            "USD                23296\n",
            "CAD                 1666\n",
            "GBP                 1587\n",
            "EUR                  638\n",
            "AUD/NZD              500\n",
            "                   ...  \n",
            "China RMB              1\n",
            "AUD Australian         1\n",
            "LKR                    1\n",
            "Polish Złoty           1\n",
            "COP                    1\n",
            "Name: new_currency, Length: 86, dtype: int64\n"
          ]
        }
      ]
    },
    {
      "cell_type": "markdown",
      "source": [
        "Dapat dilihat bahwa data currency pada kolom new_currency masih kotor dan masih banyak duplikasi. Maka dari itu, data tersebut perlu dibersihkan dan diseragamkan."
      ],
      "metadata": {
        "id": "9yeKFXUE3r07"
      }
    },
    {
      "cell_type": "code",
      "source": [
        "is_nan = df['new_currency'].isna().sum()\n",
        "print(is_nan)\n",
        "\n",
        "equity_count = df['new_currency'].value_counts()['Equity']\n",
        "print(\"Jumlah nilai 'equity':\", equity_count)"
      ],
      "metadata": {
        "colab": {
          "base_uri": "https://localhost:8080/"
        },
        "id": "njZ_83nht8Jh",
        "outputId": "95fc41a9-a95a-4f7d-94a0-4ceed4082611"
      },
      "execution_count": null,
      "outputs": [
        {
          "output_type": "stream",
          "name": "stdout",
          "text": [
            "4\n",
            "Jumlah nilai 'equity': 1\n"
          ]
        }
      ]
    },
    {
      "cell_type": "markdown",
      "source": [
        "Terdapat pula data bernilai nan dan equity (saham). Data tersebut harus dihapus. "
      ],
      "metadata": {
        "id": "_RyFjqu705xI"
      }
    },
    {
      "cell_type": "markdown",
      "source": [
        "##Cleaning Currency"
      ],
      "metadata": {
        "id": "5Vfyuxzb30hy"
      }
    },
    {
      "cell_type": "markdown",
      "source": [
        "Mengubah dan menyeragamkan currency"
      ],
      "metadata": {
        "id": "fwi_YkWm1IEF"
      }
    },
    {
      "cell_type": "code",
      "source": [
        "df['new_currency'] = df['new_currency'].str.upper().replace(['AUD/NZD', 'NZD', 'AUD Australian ', 'Australian Dollars ', 'AUSTRALIAN DOLLARS ', 'AUD AUSTRALIAN', 'AUD AUSTRALIAN '], 'AUD')\n",
        "df['new_currency'] = df['new_currency'].str.upper().replace(['Peso Argentino', 'Argentinian peso (ARS)', 'Argentine Peso', 'ARGENTINIAN PESO (ARS)', 'ARGENTINE PESO', 'PESO ARGENTINO'], 'ARS')\n",
        "df['new_currency'] = df['new_currency'].str.upper().replace(['BR$', 'BRL (R$)'], 'BRL')\n",
        "df['new_currency'] = df['new_currency'].str.upper().replace(['Dkk', 'DKK ', 'Danish Kroner', 'dkk', 'DANISH KRONER'], 'DKK')\n",
        "df['new_currency'] = df['new_currency'].str.upper().replace(['Indian rupees', 'INR (Indian Rupee)', 'Rupees', 'INDIAN RUPEES', 'INR (INDIAN RUPEE)', 'RUPEES'], 'INR')\n",
        "df['new_currency'] = df['new_currency'].str.upper().replace(['Mexican pesos', 'Mexican Pesos', 'MEXICAN PESOS'], 'MXN')\n",
        "df['new_currency'] = df['new_currency'].str.replace('Bdt', 'BDT')\n",
        "df['new_currency'] = df['new_currency'].str.upper().replace(['American Dollars', 'US Dollar', 'AMERICAN DOLLARS', 'US DOLLAR'], 'USD')\n",
        "df['new_currency'] = df['new_currency'].str.upper().replace(['Php', 'Philippine Peso', 'Philippine peso (PHP)', 'PhP (Philippine Peso)', 'Philippine Pesos', 'PHILIPPINE PESO', 'PHP (PHILIPPINE PESO)', 'PHILIPPINE PESOS', 'PHILIPPINE PESO (PHP)'], 'PHP')\n",
        "df['new_currency'] = df['new_currency'].str.upper().replace(['PLN (Polish zloty)', 'Polish Złoty', 'PLN (Zwoty)', 'PLN (POLISH ZLOTY)', 'PLN (ZWOTY)', 'POLISH ZŁOTY'], 'PLN')\n",
        "df['new_currency'] = df['new_currency'].str.upper().replace(['czech crowns', 'Czk', 'CZECH CROWNS'], 'CZK')\n",
        "df['new_currency'] = df['new_currency'].str.upper().replace(['Norwegian kroner (NOK)', 'Nok', 'NORWEGIAN KRONER (NOK)'], 'NOK')\n",
        "df['new_currency'] = df['new_currency'].str.upper().replace(['ILS/NIS', 'NIS (new Israeli shekel)', 'ILS (Shekel)', 'Israeli Shekels', 'Ils', 'NIS (NEW ISRAELI SHEKEL)', 'ISRAELI SHEKELS', 'ILS (SHEKEL)'], 'NIS')\n",
        "df['new_currency'] = df['new_currency'].str.upper().replace(['RMB (chinese yuan)', 'RMB (CHINESE YUAN)'], 'RMB')\n",
        "df['new_currency'] = df['new_currency'].str.upper().replace(['Taiwanese dollars', 'TAIWANESE DOLLARS'], 'TWD')\n",
        "df['new_currency'] = df['new_currency'].str.upper().replace(['KRW (Korean Won)', 'Korean Won ', 'KOREAN WON ', 'KRW (KOREAN WON)'], 'KRW')\n",
        "df['new_currency'] = df['new_currency'].str.replace('IDR ', 'IDR')\n",
        "df['new_currency'] = df['new_currency'].str.upper().replace(['Sgd', 'SGD ', 'Singapore Dollara', 'SINGAPORE DOLLARA'], 'SGD')\n",
        "df['new_currency'] = df['new_currency'].str.upper().replace(['China RMB', 'CHINA RMB'], 'CNY')\n",
        "df['new_currency'] = df['new_currency'].str.upper().replace(['Euro', 'EURO'], 'EUR')\n",
        "df['new_currency'] = df['new_currency'].str.upper().replace(['THAI  BAHT', 'Thai Baht ', 'THAI BAHT '], 'THB')\n",
        "df['new_currency'] = df['new_currency'].str.upper().replace(['croatian kuna', 'CROATIAN KUNA'], 'THB')"
      ],
      "metadata": {
        "id": "JobZ-nKf34aF"
      },
      "execution_count": null,
      "outputs": []
    },
    {
      "cell_type": "markdown",
      "source": [
        "Menghapus nilai NaN dan equity"
      ],
      "metadata": {
        "id": "bzwUMlFM1OxD"
      }
    },
    {
      "cell_type": "code",
      "source": [
        "# Menemukan letak nilai NaN dan Equity pada kolom 'new_currency'\n",
        "nan_index = df[df['new_currency'].isna()].index\n",
        "equity_index = df.loc[df['new_currency'] == 'Equity'].index\n",
        "\n",
        "# Cetak indeks\n",
        "print(\"Letak nilai Nan pada indeks : \", nan_index)\n",
        "print(\"Letak nilai equity pada indeks : \", equity_index)"
      ],
      "metadata": {
        "colab": {
          "base_uri": "https://localhost:8080/"
        },
        "id": "Dxt58czCykNi",
        "outputId": "bb60cb98-23f2-40a5-fe86-79291a154936"
      },
      "execution_count": null,
      "outputs": [
        {
          "output_type": "stream",
          "name": "stdout",
          "text": [
            "Letak nilai Nan pada indeks :  Int64Index([9344, 18843, 18882, 18904], dtype='int64')\n",
            "Letak nilai equity pada indeks :  Int64Index([14915], dtype='int64')\n"
          ]
        }
      ]
    },
    {
      "cell_type": "code",
      "source": [
        "df = df.drop([9344, 18843, 18882, 18904, 14915])"
      ],
      "metadata": {
        "id": "rNB4wV9l2wIe"
      },
      "execution_count": null,
      "outputs": []
    },
    {
      "cell_type": "markdown",
      "source": [
        "Mengecek currency yang sudah dicleaning"
      ],
      "metadata": {
        "id": "eluh0Ocv24V7"
      }
    },
    {
      "cell_type": "code",
      "source": [
        "currency_types = df['new_currency'].unique()\n",
        "currency_count = df['new_currency'].value_counts()\n",
        "print(currency_types)\n",
        "print(currency_count)"
      ],
      "metadata": {
        "colab": {
          "base_uri": "https://localhost:8080/"
        },
        "id": "iKqws1qY37q_",
        "outputId": "6e50a290-80bf-4d8f-ec58-6721089980c7"
      },
      "execution_count": null,
      "outputs": [
        {
          "output_type": "stream",
          "name": "stdout",
          "text": [
            "['USD' 'GBP' 'CAD' 'EUR' 'AUD' 'INR' 'ARS' 'CHF' 'MYR' 'ZAR' 'SEK' 'HKD'\n",
            " 'NOK' 'BRL' 'DKK' 'TTD' 'MXN' 'CZK' 'BDT' 'PHP' 'PLN' 'TRY' 'CNY' 'NIS'\n",
            " 'RMB' 'JPY' 'TWD' 'SGD' 'KRW' 'THB' 'IDR' 'LKR' 'ILS' 'SAR' 'RM' 'NTD'\n",
            " 'NGN' 'COP']\n",
            "USD    23298\n",
            "CAD     1666\n",
            "GBP     1587\n",
            "EUR      639\n",
            "AUD      507\n",
            "CHF       38\n",
            "SEK       38\n",
            "JPY       23\n",
            "ZAR       15\n",
            "INR       13\n",
            "SGD       12\n",
            "DKK       12\n",
            "NOK       10\n",
            "BRL        8\n",
            "PLN        8\n",
            "MYR        8\n",
            "CZK        6\n",
            "PHP        6\n",
            "ARS        5\n",
            "THB        5\n",
            "KRW        4\n",
            "NIS        4\n",
            "HKD        4\n",
            "MXN        4\n",
            "ILS        3\n",
            "CNY        3\n",
            "TRY        2\n",
            "NTD        2\n",
            "IDR        2\n",
            "NGN        1\n",
            "RM         1\n",
            "SAR        1\n",
            "BDT        1\n",
            "LKR        1\n",
            "TWD        1\n",
            "RMB        1\n",
            "TTD        1\n",
            "COP        1\n",
            "Name: new_currency, dtype: int64\n"
          ]
        }
      ]
    },
    {
      "cell_type": "markdown",
      "source": [
        "Setelah dibersihkan, data currency jadi lebih rapi dan seragam."
      ],
      "metadata": {
        "id": "kIa2wc__3_Q9"
      }
    },
    {
      "cell_type": "markdown",
      "source": [
        "##Mengubah data salary menjadi USD"
      ],
      "metadata": {
        "id": "Rl2bZHf_4FST"
      }
    },
    {
      "cell_type": "code",
      "source": [
        "def convert_to_usd(salary, new_currency):\n",
        "    exchange_rates = {'USD': 1, 'GBP': 0.81, 'CAD': 1.37, 'EUR': 0.85, 'AUD': 1.48,\n",
        "                  'INR': 82.50, 'ARS': 205.3, 'CHF': 0.9, 'MYR': 4.43, 'ZAR': 18.18, \n",
        "                  'SEK': 10.28, 'HKD': 7.84, 'NOK': 10.43, 'BRL': 5.24, 'DKK': 6.84,  \n",
        "                  'TTD': 6.80, 'MXN': 18.57, 'CZK': 21.78, 'BDT': 107.00, 'PHP': 54.50, \n",
        "                  'PLN': 4.30, 'TRY': 19.05, 'CNY': 6.88, 'NIS': 3.62, 'RMB': 6.88, \n",
        "                  'JPY': 130.89, 'TWD': 30.37, 'SGD': 1.33, 'KRW': 1294.25, 'THB': 34.20, \n",
        "                  'IDR': 15185.05, 'LKR': 322.52, 'ILS': 3.62, 'SAR': 3.76, 'RM': 4.44,\n",
        "                  'NTD':30.38, 'NGN':460.45, 'COP': 4773.00}\n",
        "    if new_currency in exchange_rates:\n",
        "        return salary / exchange_rates[new_currency]\n",
        "    else:\n",
        "        return None\n",
        "\n",
        "df['usd_salary'] = df.apply(lambda row: convert_to_usd(row['salary'], row['new_currency']), axis=1)"
      ],
      "metadata": {
        "id": "FtPBu9cI4A7m"
      },
      "execution_count": null,
      "outputs": []
    },
    {
      "cell_type": "markdown",
      "source": [],
      "metadata": {
        "id": "BjHu7kQn4MVJ"
      }
    },
    {
      "cell_type": "markdown",
      "source": [
        "**Penjelasan Kode**\n",
        "\n",
        "exchange_rates merupakan dictionary yang berisi nilai tukar untuk setiap currency yang ingin diubah. Dictionary ini harus memiliki format currency tujuan sebagai kunci dan nilai tukar sebagai nilai. Saya menetapkan USD sebagai currency tujuan. Di sini saya tidak menggunakan library untuk convert currency karena error, banyak mata uang yang tidak terdeteksi.\n",
        "\n",
        "Fungsi convert_to_usd ini bertujuan untuk mengonversi nilai gaji dalam currency yang berbeda menjadi nilai gaji dalam currency tujuan. Fungsi ini akan menerima dua argumen: nilai gaji dan currency. Fungsi akan mengembalikan nilai gaji dalam currency tujuan. Fungsi juga berisi exchange_rates yang sudah dibuat sebelumnya. Fungsi convert_to_usd() akan mengonversi nilai gaji ke USD. Fungsi akan memeriksa apakah currency yang diberikan ada dalam dictionary nilai tukar. Jika ya, maka fungsi akan mengembalikan nilai gaji yang sudah dikonversi. Jika tidak, maka fungsi akan mengembalikan None.\n",
        "\n",
        "Jika sudah, kolom baru 'usd_salary' akan ditambahkan pada dataframe. Kolom baru ini akan diisi dengan nilai gaji dalam USD yang dihitung dengan menggunakan fungsi convert_to_usd() pada setiap baris dataframe."
      ],
      "metadata": {
        "id": "vhAFJN0U4Mbw"
      }
    },
    {
      "cell_type": "markdown",
      "source": [
        "Mengecek data salary sebelum dikonversi menjadi USD"
      ],
      "metadata": {
        "id": "WDtHsuNn3IDV"
      }
    },
    {
      "cell_type": "code",
      "source": [
        "salary = df['salary']\n",
        "print(salary)"
      ],
      "metadata": {
        "colab": {
          "base_uri": "https://localhost:8080/"
        },
        "id": "f7GkYzwa4K83",
        "outputId": "f2cf3d1d-87a9-407b-cc5b-d1de1e24a200"
      },
      "execution_count": null,
      "outputs": [
        {
          "output_type": "stream",
          "name": "stdout",
          "text": [
            "0         55000\n",
            "1         54600\n",
            "2         34000\n",
            "3         62000\n",
            "4         60000\n",
            "          ...  \n",
            "27941    190000\n",
            "27942     55000\n",
            "27943     52416\n",
            "27944     36000\n",
            "27945     60000\n",
            "Name: salary, Length: 27945, dtype: int64\n"
          ]
        }
      ]
    },
    {
      "cell_type": "markdown",
      "source": [
        "Mengecek data salary setelah dikonversi menjadi USD"
      ],
      "metadata": {
        "id": "_j7ygz3C3M8o"
      }
    },
    {
      "cell_type": "code",
      "source": [
        "df['usd_salary'] = df['usd_salary'].astype(int)\n",
        "usd_salary = df['usd_salary']\n",
        "print(usd_salary)"
      ],
      "metadata": {
        "colab": {
          "base_uri": "https://localhost:8080/"
        },
        "id": "RrrZSApy4UdM",
        "outputId": "04bcc986-0f54-40e0-8335-82cad18728eb"
      },
      "execution_count": null,
      "outputs": [
        {
          "output_type": "stream",
          "name": "stdout",
          "text": [
            "0         55000\n",
            "1         67407\n",
            "2         34000\n",
            "3         62000\n",
            "4         60000\n",
            "          ...  \n",
            "27941    190000\n",
            "27942     55000\n",
            "27943     52416\n",
            "27944     36000\n",
            "27945     60000\n",
            "Name: usd_salary, Length: 27941, dtype: int64\n"
          ]
        }
      ]
    },
    {
      "cell_type": "markdown",
      "source": [
        "#Eksplorasi EDA"
      ],
      "metadata": {
        "id": "kY31ARnY4iae"
      }
    },
    {
      "cell_type": "markdown",
      "source": [],
      "metadata": {
        "id": "YzfTOvW46DU7"
      }
    },
    {
      "cell_type": "markdown",
      "source": [
        "##Hubungan gaji dengan pengalaman kerja"
      ],
      "metadata": {
        "id": "bZFTdDy26GZX"
      }
    },
    {
      "cell_type": "code",
      "source": [
        "mean_salary_by_year = df.groupby('work_experience_overall')['usd_salary'].mean()\n",
        "mean_salary_by_year = mean_salary_by_year.sort_values()\n",
        "mean_salary_by_year.plot(kind='bar', color='purple')\n",
        "\n",
        "# Menambah label dan judul\n",
        "plt.title('Rata-Rata Gaji Berdasarkan Pengalaman Kerja')\n",
        "plt.xlabel('Tahun Pengalaman Kerja')"
      ],
      "metadata": {
        "colab": {
          "base_uri": "https://localhost:8080/",
          "height": 595
        },
        "id": "ehjG83PF6Eva",
        "outputId": "0b34074a-aaa5-4a3a-cfc1-cded37e38f89"
      },
      "execution_count": null,
      "outputs": [
        {
          "output_type": "execute_result",
          "data": {
            "text/plain": [
              "Text(0.5, 0, 'Tahun Pengalaman Kerja')"
            ]
          },
          "metadata": {},
          "execution_count": 58
        },
        {
          "output_type": "display_data",
          "data": {
            "text/plain": [
              "<Figure size 640x480 with 1 Axes>"
            ],
            "image/png": "[encoded data removed]"
          },
          "metadata": {}
        }
      ]
    }
  ]
}